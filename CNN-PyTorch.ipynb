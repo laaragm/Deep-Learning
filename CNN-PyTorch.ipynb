{
 "cells": [
  {
   "cell_type": "raw",
   "metadata": {},
   "source": [
    "A Convolutional Neural Network (ConvNet/CNN) is a Deep Learning algorithm which can take in an input image, assign importance\n",
    "(learnable weights and biases) to various aspects/objects in the image and be able to differentiate one from the other.\n",
    "\n",
    "We usually use Convolutional Neural Networks for image tasks (image recognition, classification).\n",
    "\n",
    "The objective of the Convolution Operation is to extract the high-level features such as edges, from the input image.\n",
    "\n",
    "Pooling is used to divide the input map into a set of rectangles and, outputs the maximum for nonlinear down-sampling. \n",
    "\n",
    "Role of pooling layer is to reduce the resolution of the feature map but retaining features of the map required for \n",
    "classification through translational and rotational invariants. Backpropagation is used for training of pooling operation.\n",
    "\n",
    "Basically, this CNN is drastically simplifying your image and it looks for features of the image (remember that the complexity\n",
    "of these features are increased over and over according to the layers - the first layer is most likely just going to find very\n",
    "basic features like edges, corners, curves).\n",
    "\n",
    "Basic neural network layers (dense layer, regular dense layer, linear layer, fully connected layer) will require you to pass flattened data but that doesn't necessarily apply to convolutional layers. "
   ]
  },
  {
   "cell_type": "code",
   "execution_count": 1,
   "metadata": {},
   "outputs": [],
   "source": [
    "#Resources: https://www.youtube.com/watch?v=9aYuQmMJvjA&list=PLQVvvaa0QuDdeMyHEYc0gxFpYwHY2Qfdh&index=5\n",
    "#Dataset: https://www.microsoft.com/en-us/download/details.aspx?id=54765\n",
    "\n",
    "import torch \n",
    "import torch.nn as nn\n",
    "from IPython.display import Image\n",
    "import pandas as pd\n",
    "import os\n",
    "import cv2\n",
    "import numpy as np\n",
    "import matplotlib.pyplot as plt\n",
    "import torch.nn.functional as F\n",
    "from tqdm import tqdm\n",
    "import torch.optim as optim"
   ]
  },
  {
   "cell_type": "code",
   "execution_count": 2,
   "metadata": {},
   "outputs": [],
   "source": [
    "REBUILD_DATA = True #In our pre-processing dataset we don't want to build data every single time you run the code"
   ]
  },
  {
   "cell_type": "code",
   "execution_count": 3,
   "metadata": {},
   "outputs": [],
   "source": [
    "class DogsVSCats():\n",
    "    \n",
    "    IMG_SIZE = 50 #50x50 images - we need them to be uniform on the input\n",
    "    CATS = \"PetImages/Cat\"\n",
    "    DOGS = \"PetImages/Dog\"\n",
    "    LABELS = {CATS: 0, DOGS: 1}\n",
    "\n",
    "    training_data = []\n",
    "    cat_count = 0\n",
    "    dog_count = 0\n",
    "\n",
    "    def make_training_data(self):\n",
    "        for label in self.LABELS: #iterate over the directories\n",
    "            for file in tqdm(os.listdir(label)): #iterate over all of the images within the directory\n",
    "                try:\n",
    "                    path = os.path.join(label, file)\n",
    "                    img = cv2.imread(path, cv2.IMREAD_GRAYSCALE) #convert image to grayscale\n",
    "                    img = cv2.resize(img, (self.IMG_SIZE, self.IMG_SIZE))\n",
    "                    self.training_data.append([np.array(img), np.eye(2)[self.LABELS[label]]]) #convert things to one hot vector\n",
    "\n",
    "                    if label == self.CATS:\n",
    "                        self.cat_count += 1\n",
    "                    elif label == self.DOGS:\n",
    "                        self.dog_count += 1\n",
    "                except Exception as exception:\n",
    "                    pass\n",
    "\n",
    "        np.random.shuffle(self.training_data)\n",
    "        np.save(\"training_data.npy\", self.training_data)\n",
    "        print(\"Cats: \", self.cat_count)\n",
    "        print(\"Dogs: \", self.dog_count)"
   ]
  },
  {
   "cell_type": "code",
   "execution_count": 4,
   "metadata": {},
   "outputs": [
    {
     "name": "stderr",
     "output_type": "stream",
     "text": [
      "100%|███████████████████████████████████████████████████████████████████████████| 12501/12501 [00:21<00:00, 575.56it/s]\n",
      "100%|███████████████████████████████████████████████████████████████████████████| 12501/12501 [00:23<00:00, 535.57it/s]\n"
     ]
    },
    {
     "name": "stdout",
     "output_type": "stream",
     "text": [
      "Cats:  12476\n",
      "Dogs:  12470\n"
     ]
    }
   ],
   "source": [
    "if REBUILD_DATA:\n",
    "    dogsvscats = DogsVSCats()\n",
    "    dogsvscats.make_training_data()"
   ]
  },
  {
   "cell_type": "code",
   "execution_count": 5,
   "metadata": {},
   "outputs": [
    {
     "name": "stdout",
     "output_type": "stream",
     "text": [
      "12476\n",
      "12470\n"
     ]
    }
   ],
   "source": [
    "#Our data is already balanced since the number of dog images is almost equal to the number of cat images\n",
    "print(dogsvscats.cat_count)\n",
    "print(dogsvscats.dog_count)"
   ]
  },
  {
   "cell_type": "code",
   "execution_count": 6,
   "metadata": {},
   "outputs": [],
   "source": [
    "training_data = np.load(\"training_data.npy\", allow_pickle=True)"
   ]
  },
  {
   "cell_type": "code",
   "execution_count": 7,
   "metadata": {},
   "outputs": [
    {
     "name": "stdout",
     "output_type": "stream",
     "text": [
      "24946\n"
     ]
    }
   ],
   "source": [
    "print(len(training_data))"
   ]
  },
  {
   "cell_type": "code",
   "execution_count": 8,
   "metadata": {},
   "outputs": [
    {
     "name": "stdout",
     "output_type": "stream",
     "text": [
      "[array([[ 87,  60,  65, ...,  52,  49,  49],\n",
      "       [ 68,  64,  64, ...,  54,  50,  57],\n",
      "       [111,  74,  71, ...,  54,  56,  50],\n",
      "       ...,\n",
      "       [ 93,  85,  86, ...,  58,  67, 115],\n",
      "       [ 87, 109,  96, ..., 132, 122,  88],\n",
      "       [120,  91, 102, ...,  50,  82,  71]], dtype=uint8)\n",
      " array([0., 1.])]\n"
     ]
    }
   ],
   "source": [
    "#It's a cat since our one hot array outputs hot for cat\n",
    "print(training_data[0])"
   ]
  },
  {
   "cell_type": "code",
   "execution_count": 9,
   "metadata": {},
   "outputs": [
    {
     "data": {
      "image/png": "[encoded data removed]",
      "text/plain": [
       "<Figure size 432x288 with 1 Axes>"
      ]
     },
     "metadata": {
      "needs_background": "light"
     },
     "output_type": "display_data"
    }
   ],
   "source": [
    "plt.imshow(training_data[0][0], cmap=\"gray\")\n",
    "plt.show()"
   ]
  },
  {
   "cell_type": "code",
   "execution_count": 10,
   "metadata": {},
   "outputs": [],
   "source": [
    "class Net(nn.Module):\n",
    "    \n",
    "    def __init__(self):\n",
    "        super().__init__()\n",
    "        \n",
    "        #2d convolutional layers are usually used on images, 3d convolutional layers are used on scans/models and \n",
    "        #1d convolutional layers are usually used on sequential or temporal type datasets with attention (and it seems\n",
    "        #to be outperforming RNNs which were kind of the industry standard for doing any sort of sequential type of data).\n",
    "        self.conv1 = nn.Conv2d(1, 32, 5) #input is 1, it outputs 32 convolutional features and we have a 5x5 kernel (window)\n",
    "        self.conv2 = nn.Conv2d(32, 64, 5)\n",
    "        self.conv3 = nn.Conv2d(64, 128, 5)\n",
    "        \n",
    "        x = torch.randn(50,50).view(-1,1,50,50)\n",
    "        self._to_linear = None\n",
    "        self.convs(x)\n",
    "        \n",
    "        #self.fc1 = nn.Linear(???, 512) we need to find the input number and this what _to_linear is going to do \n",
    "        self.fc1 = nn.Linear(self._to_linear, 512)\n",
    "        self.fc2 = nn.Linear(512, 2)\n",
    "        \n",
    "    def convs(self, x):\n",
    "        x = F.max_pool2d(F.relu(self.conv1(x)), (2,2))\n",
    "        x = F.max_pool2d(F.relu(self.conv2(x)), (2,2))\n",
    "        x = F.max_pool2d(F.relu(self.conv3(x)), (2,2))\n",
    "        \n",
    "        #print(x[0].shape)\n",
    "        if self._to_linear is None:\n",
    "            self._to_linear = x[0].shape[0]*x[0].shape[1]*x[0].shape[2]\n",
    "        \n",
    "        return x\n",
    "    \n",
    "    def forward(self, x):\n",
    "        x = self.convs(x)\n",
    "        x = x.view(-1, self._to_linear) #reshape to be flattened because after it comes out of convs() it's not flat yet\n",
    "        x = F.relu(self.fc1(x))\n",
    "        x = self.fc2(x)\n",
    "        \n",
    "        return F.softmax(x, dim=1) "
   ]
  },
  {
   "cell_type": "code",
   "execution_count": 11,
   "metadata": {},
   "outputs": [],
   "source": [
    "net = Net()"
   ]
  },
  {
   "cell_type": "code",
   "execution_count": 12,
   "metadata": {},
   "outputs": [
    {
     "name": "stdout",
     "output_type": "stream",
     "text": [
      "2494\n"
     ]
    }
   ],
   "source": [
    "optimizer = optim.Adam(net.parameters(), lr=0.001)\n",
    "loss_function = nn.MSELoss()\n",
    "\n",
    "X = torch.Tensor([i[0] for i in training_data]).view(-1, 50, 50)\n",
    "X = X/255.0 #scaling the images\n",
    "y = torch.Tensor([i[1] for i in training_data])\n",
    "\n",
    "VAL_PCT = 0.1\n",
    "val_size = int(len(X)*VAL_PCT)\n",
    "print(val_size)"
   ]
  },
  {
   "cell_type": "code",
   "execution_count": 13,
   "metadata": {},
   "outputs": [
    {
     "name": "stdout",
     "output_type": "stream",
     "text": [
      "22452\n",
      "2494\n"
     ]
    }
   ],
   "source": [
    "train_X = X[:-val_size]\n",
    "train_y = y[:-val_size]\n",
    "\n",
    "test_X = X[-val_size:]\n",
    "test_y = y[-val_size:]\n",
    "\n",
    "print(len(train_X))\n",
    "print(len(test_X))"
   ]
  },
  {
   "cell_type": "code",
   "execution_count": 14,
   "metadata": {},
   "outputs": [
    {
     "name": "stderr",
     "output_type": "stream",
     "text": [
      "100%|████████████████████████████████████████████████████████████████████████████████| 225/225 [03:11<00:00,  1.17it/s]\n",
      "100%|████████████████████████████████████████████████████████████████████████████████| 225/225 [03:12<00:00,  1.17it/s]\n",
      "100%|████████████████████████████████████████████████████████████████████████████████| 225/225 [03:08<00:00,  1.19it/s]"
     ]
    },
    {
     "name": "stdout",
     "output_type": "stream",
     "text": [
      "tensor(0.1460, grad_fn=<MseLossBackward>)\n"
     ]
    },
    {
     "name": "stderr",
     "output_type": "stream",
     "text": [
      "\n"
     ]
    }
   ],
   "source": [
    "BATCH_SIZE = 100\n",
    "EPOCHS = 3\n",
    "\n",
    "for epoch in range(EPOCHS):\n",
    "    for i in tqdm(range(0, len(train_X), BATCH_SIZE)):\n",
    "        #print(i, i+BATCH_SIZE)\n",
    "        batch_X = train_X[i:i+BATCH_SIZE].view(-1,1,50,50)\n",
    "        batch_y = train_y[i:i+BATCH_SIZE]\n",
    "        \n",
    "        net.zero_grad()\n",
    "        outputs = net(batch_X)\n",
    "        loss = loss_function(outputs, batch_y)\n",
    "        loss.backward()\n",
    "        optimizer.step()\n",
    "print(loss)"
   ]
  },
  {
   "cell_type": "code",
   "execution_count": 15,
   "metadata": {},
   "outputs": [
    {
     "name": "stderr",
     "output_type": "stream",
     "text": [
      "100%|█████████████████████████████████████████████████████████████████████████████| 2494/2494 [00:10<00:00, 237.84it/s]"
     ]
    },
    {
     "name": "stdout",
     "output_type": "stream",
     "text": [
      "Accuracy:  0.727\n"
     ]
    },
    {
     "name": "stderr",
     "output_type": "stream",
     "text": [
      "\n"
     ]
    }
   ],
   "source": [
    "correct = 0\n",
    "total = 0\n",
    "with torch.no_grad():\n",
    "    for i in tqdm(range(len(test_X))):\n",
    "        real_class = torch.argmax(test_y[i])\n",
    "        net_out = net(test_X[i].view(-1,1,50,50))[0]\n",
    "        \n",
    "        predicted_class = torch.argmax(net_out)\n",
    "        if predicted_class == real_class:\n",
    "            correct += 1\n",
    "        total += 1\n",
    "print('Accuracy: ', round(correct/total, 3))"
   ]
  },
  {
   "cell_type": "code",
   "execution_count": 24,
   "metadata": {},
   "outputs": [
    {
     "data": {
      "image/png": "[encoded data removed]",
      "text/plain": [
       "<Figure size 432x288 with 1 Axes>"
      ]
     },
     "metadata": {
      "needs_background": "light"
     },
     "output_type": "display_data"
    }
   ],
   "source": [
    "plt.imshow(test_X[2].view(50,50))\n",
    "plt.show()"
   ]
  },
  {
   "cell_type": "code",
   "execution_count": 25,
   "metadata": {},
   "outputs": [
    {
     "name": "stdout",
     "output_type": "stream",
     "text": [
      "tensor([0., 1.])\n"
     ]
    }
   ],
   "source": [
    "#LABELS = {CATS: 0, DOGS: 1}\n",
    "print(test_y[2])"
   ]
  },
  {
   "cell_type": "code",
   "execution_count": 22,
   "metadata": {},
   "outputs": [
    {
     "data": {
      "image/png": "[encoded data removed]",
      "text/plain": [
       "<Figure size 432x288 with 1 Axes>"
      ]
     },
     "metadata": {
      "needs_background": "light"
     },
     "output_type": "display_data"
    }
   ],
   "source": [
    "plt.imshow(test_X[0].view(50,50))\n",
    "plt.show()"
   ]
  },
  {
   "cell_type": "code",
   "execution_count": 23,
   "metadata": {},
   "outputs": [
    {
     "name": "stdout",
     "output_type": "stream",
     "text": [
      "tensor([1., 0.])\n"
     ]
    }
   ],
   "source": [
    "print(test_y[0])"
   ]
  },
  {
   "cell_type": "code",
   "execution_count": 19,
   "metadata": {},
   "outputs": [],
   "source": [
    "#Upload your own image so the model can predict whether it's a cat or a dog (one image at a time)\n",
    "def predict(file_path):\n",
    "    file = Image(filename=file_path)\n",
    "    \n",
    "    img = cv2.imread(file_path, cv2.IMREAD_GRAYSCALE) #convert image to grayscale\n",
    "    img = cv2.resize(img, (50, 50))\n",
    "\n",
    "    test = []\n",
    "    test.append(np.array(img)) \n",
    "    test = torch.Tensor(img)\n",
    "\n",
    "    with torch.no_grad():\n",
    "        net_out = net(test.view(-1,1,50,50))\n",
    "        predicted_class = torch.argmax(net_out)\n",
    "    \n",
    "    if predicted_class == 1:\n",
    "        print(\"It's a dog!\")\n",
    "    else:\n",
    "        print(\"It's a cat!\")"
   ]
  },
  {
   "cell_type": "code",
   "execution_count": 20,
   "metadata": {},
   "outputs": [
    {
     "name": "stdout",
     "output_type": "stream",
     "text": [
      "It's a dog!\n"
     ]
    }
   ],
   "source": [
    "predict('coragem.jpg')"
   ]
  },
  {
   "cell_type": "code",
   "execution_count": 21,
   "metadata": {},
   "outputs": [
    {
     "name": "stdout",
     "output_type": "stream",
     "text": [
      "It's a dog!\n"
     ]
    }
   ],
   "source": [
    "predict('lolla.jpg')"
   ]
  }
 ],
 "metadata": {
  "kernelspec": {
   "display_name": "Python 3",
   "language": "python",
   "name": "python3"
  },
  "language_info": {
   "codemirror_mode": {
    "name": "ipython",
    "version": 3
   },
   "file_extension": ".py",
   "mimetype": "text/x-python",
   "name": "python",
   "nbconvert_exporter": "python",
   "pygments_lexer": "ipython3",
   "version": "3.7.6"
  }
 },
 "nbformat": 4,
 "nbformat_minor": 4
}
