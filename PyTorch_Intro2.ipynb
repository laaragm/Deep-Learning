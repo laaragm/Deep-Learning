{
  "nbformat": 4,
  "nbformat_minor": 0,
  "metadata": {
    "colab": {
      "name": "PyTorch_Intro2.ipynb",
      "provenance": [],
      "collapsed_sections": []
    },
    "kernelspec": {
      "name": "python3",
      "display_name": "Python 3"
    },
    "accelerator": "GPU",
    "widgets": {
      "application/vnd.jupyter.widget-state+json": {
        "2eaeabcea49c42c693b19a9801f1120d": {
          "model_module": "@jupyter-widgets/controls",
          "model_name": "HBoxModel",
          "state": {
            "_view_name": "HBoxView",
            "_dom_classes": [],
            "_model_name": "HBoxModel",
            "_view_module": "@jupyter-widgets/controls",
            "_model_module_version": "1.5.0",
            "_view_count": null,
            "_view_module_version": "1.5.0",
            "box_style": "",
            "layout": "IPY_MODEL_e0c57f45d13d4c5694bb5414ad6302bf",
            "_model_module": "@jupyter-widgets/controls",
            "children": [
              "IPY_MODEL_b452cc0ee36e4b92ae36c5982e2502eb",
              "IPY_MODEL_7a0f0630b99349ddb0f84e456a3ffe85"
            ]
          }
        },
        "e0c57f45d13d4c5694bb5414ad6302bf": {
          "model_module": "@jupyter-widgets/base",
          "model_name": "LayoutModel",
          "state": {
            "_view_name": "LayoutView",
            "grid_template_rows": null,
            "right": null,
            "justify_content": null,
            "_view_module": "@jupyter-widgets/base",
            "overflow": null,
            "_model_module_version": "1.2.0",
            "_view_count": null,
            "flex_flow": null,
            "width": null,
            "min_width": null,
            "border": null,
            "align_items": null,
            "bottom": null,
            "_model_module": "@jupyter-widgets/base",
            "top": null,
            "grid_column": null,
            "overflow_y": null,
            "overflow_x": null,
            "grid_auto_flow": null,
            "grid_area": null,
            "grid_template_columns": null,
            "flex": null,
            "_model_name": "LayoutModel",
            "justify_items": null,
            "grid_row": null,
            "max_height": null,
            "align_content": null,
            "visibility": null,
            "align_self": null,
            "height": null,
            "min_height": null,
            "padding": null,
            "grid_auto_rows": null,
            "grid_gap": null,
            "max_width": null,
            "order": null,
            "_view_module_version": "1.2.0",
            "grid_template_areas": null,
            "object_position": null,
            "object_fit": null,
            "grid_auto_columns": null,
            "margin": null,
            "display": null,
            "left": null
          }
        },
        "b452cc0ee36e4b92ae36c5982e2502eb": {
          "model_module": "@jupyter-widgets/controls",
          "model_name": "FloatProgressModel",
          "state": {
            "_view_name": "ProgressView",
            "style": "IPY_MODEL_4fd8e223ed2b4d4ea5433b2d7eb717af",
            "_dom_classes": [],
            "description": "",
            "_model_name": "FloatProgressModel",
            "bar_style": "info",
            "max": 1,
            "_view_module": "@jupyter-widgets/controls",
            "_model_module_version": "1.5.0",
            "value": 1,
            "_view_count": null,
            "_view_module_version": "1.5.0",
            "orientation": "horizontal",
            "min": 0,
            "description_tooltip": null,
            "_model_module": "@jupyter-widgets/controls",
            "layout": "IPY_MODEL_183ac36bb3bf4b4c93231172587dd030"
          }
        },
        "7a0f0630b99349ddb0f84e456a3ffe85": {
          "model_module": "@jupyter-widgets/controls",
          "model_name": "HTMLModel",
          "state": {
            "_view_name": "HTMLView",
            "style": "IPY_MODEL_744cf3c86e4f438da74a34cbc4ead4e2",
            "_dom_classes": [],
            "description": "",
            "_model_name": "HTMLModel",
            "placeholder": "​",
            "_view_module": "@jupyter-widgets/controls",
            "_model_module_version": "1.5.0",
            "value": " 9920512/? [00:19&lt;00:00, 1764977.64it/s]",
            "_view_count": null,
            "_view_module_version": "1.5.0",
            "description_tooltip": null,
            "_model_module": "@jupyter-widgets/controls",
            "layout": "IPY_MODEL_98f4ae59b4004bb08a0cd60cc48b048e"
          }
        },
        "4fd8e223ed2b4d4ea5433b2d7eb717af": {
          "model_module": "@jupyter-widgets/controls",
          "model_name": "ProgressStyleModel",
          "state": {
            "_view_name": "StyleView",
            "_model_name": "ProgressStyleModel",
            "description_width": "initial",
            "_view_module": "@jupyter-widgets/base",
            "_model_module_version": "1.5.0",
            "_view_count": null,
            "_view_module_version": "1.2.0",
            "bar_color": null,
            "_model_module": "@jupyter-widgets/controls"
          }
        },
        "183ac36bb3bf4b4c93231172587dd030": {
          "model_module": "@jupyter-widgets/base",
          "model_name": "LayoutModel",
          "state": {
            "_view_name": "LayoutView",
            "grid_template_rows": null,
            "right": null,
            "justify_content": null,
            "_view_module": "@jupyter-widgets/base",
            "overflow": null,
            "_model_module_version": "1.2.0",
            "_view_count": null,
            "flex_flow": null,
            "width": null,
            "min_width": null,
            "border": null,
            "align_items": null,
            "bottom": null,
            "_model_module": "@jupyter-widgets/base",
            "top": null,
            "grid_column": null,
            "overflow_y": null,
            "overflow_x": null,
            "grid_auto_flow": null,
            "grid_area": null,
            "grid_template_columns": null,
            "flex": null,
            "_model_name": "LayoutModel",
            "justify_items": null,
            "grid_row": null,
            "max_height": null,
            "align_content": null,
            "visibility": null,
            "align_self": null,
            "height": null,
            "min_height": null,
            "padding": null,
            "grid_auto_rows": null,
            "grid_gap": null,
            "max_width": null,
            "order": null,
            "_view_module_version": "1.2.0",
            "grid_template_areas": null,
            "object_position": null,
            "object_fit": null,
            "grid_auto_columns": null,
            "margin": null,
            "display": null,
            "left": null
          }
        },
        "744cf3c86e4f438da74a34cbc4ead4e2": {
          "model_module": "@jupyter-widgets/controls",
          "model_name": "DescriptionStyleModel",
          "state": {
            "_view_name": "StyleView",
            "_model_name": "DescriptionStyleModel",
            "description_width": "",
            "_view_module": "@jupyter-widgets/base",
            "_model_module_version": "1.5.0",
            "_view_count": null,
            "_view_module_version": "1.2.0",
            "_model_module": "@jupyter-widgets/controls"
          }
        },
        "98f4ae59b4004bb08a0cd60cc48b048e": {
          "model_module": "@jupyter-widgets/base",
          "model_name": "LayoutModel",
          "state": {
            "_view_name": "LayoutView",
            "grid_template_rows": null,
            "right": null,
            "justify_content": null,
            "_view_module": "@jupyter-widgets/base",
            "overflow": null,
            "_model_module_version": "1.2.0",
            "_view_count": null,
            "flex_flow": null,
            "width": null,
            "min_width": null,
            "border": null,
            "align_items": null,
            "bottom": null,
            "_model_module": "@jupyter-widgets/base",
            "top": null,
            "grid_column": null,
            "overflow_y": null,
            "overflow_x": null,
            "grid_auto_flow": null,
            "grid_area": null,
            "grid_template_columns": null,
            "flex": null,
            "_model_name": "LayoutModel",
            "justify_items": null,
            "grid_row": null,
            "max_height": null,
            "align_content": null,
            "visibility": null,
            "align_self": null,
            "height": null,
            "min_height": null,
            "padding": null,
            "grid_auto_rows": null,
            "grid_gap": null,
            "max_width": null,
            "order": null,
            "_view_module_version": "1.2.0",
            "grid_template_areas": null,
            "object_position": null,
            "object_fit": null,
            "grid_auto_columns": null,
            "margin": null,
            "display": null,
            "left": null
          }
        },
        "65de7d7a488a44479ccb23d233c81f44": {
          "model_module": "@jupyter-widgets/controls",
          "model_name": "HBoxModel",
          "state": {
            "_view_name": "HBoxView",
            "_dom_classes": [],
            "_model_name": "HBoxModel",
            "_view_module": "@jupyter-widgets/controls",
            "_model_module_version": "1.5.0",
            "_view_count": null,
            "_view_module_version": "1.5.0",
            "box_style": "",
            "layout": "IPY_MODEL_059f682f99094e5192f43ed36c645dc6",
            "_model_module": "@jupyter-widgets/controls",
            "children": [
              "IPY_MODEL_9d3fd8e8d409416b8ebf964d8fa9ba25",
              "IPY_MODEL_7122f44c6206450e93caddb3b51c56ca"
            ]
          }
        },
        "059f682f99094e5192f43ed36c645dc6": {
          "model_module": "@jupyter-widgets/base",
          "model_name": "LayoutModel",
          "state": {
            "_view_name": "LayoutView",
            "grid_template_rows": null,
            "right": null,
            "justify_content": null,
            "_view_module": "@jupyter-widgets/base",
            "overflow": null,
            "_model_module_version": "1.2.0",
            "_view_count": null,
            "flex_flow": null,
            "width": null,
            "min_width": null,
            "border": null,
            "align_items": null,
            "bottom": null,
            "_model_module": "@jupyter-widgets/base",
            "top": null,
            "grid_column": null,
            "overflow_y": null,
            "overflow_x": null,
            "grid_auto_flow": null,
            "grid_area": null,
            "grid_template_columns": null,
            "flex": null,
            "_model_name": "LayoutModel",
            "justify_items": null,
            "grid_row": null,
            "max_height": null,
            "align_content": null,
            "visibility": null,
            "align_self": null,
            "height": null,
            "min_height": null,
            "padding": null,
            "grid_auto_rows": null,
            "grid_gap": null,
            "max_width": null,
            "order": null,
            "_view_module_version": "1.2.0",
            "grid_template_areas": null,
            "object_position": null,
            "object_fit": null,
            "grid_auto_columns": null,
            "margin": null,
            "display": null,
            "left": null
          }
        },
        "9d3fd8e8d409416b8ebf964d8fa9ba25": {
          "model_module": "@jupyter-widgets/controls",
          "model_name": "FloatProgressModel",
          "state": {
            "_view_name": "ProgressView",
            "style": "IPY_MODEL_c8f5517a37b14472b5302a2d3a4258f8",
            "_dom_classes": [],
            "description": "  0%",
            "_model_name": "FloatProgressModel",
            "bar_style": "info",
            "max": 1,
            "_view_module": "@jupyter-widgets/controls",
            "_model_module_version": "1.5.0",
            "value": 0,
            "_view_count": null,
            "_view_module_version": "1.5.0",
            "orientation": "horizontal",
            "min": 0,
            "description_tooltip": null,
            "_model_module": "@jupyter-widgets/controls",
            "layout": "IPY_MODEL_b283b8ff39ce48db8fc3ab8ce318287b"
          }
        },
        "7122f44c6206450e93caddb3b51c56ca": {
          "model_module": "@jupyter-widgets/controls",
          "model_name": "HTMLModel",
          "state": {
            "_view_name": "HTMLView",
            "style": "IPY_MODEL_1c4ba27af08e4e738d5f66af37005da4",
            "_dom_classes": [],
            "description": "",
            "_model_name": "HTMLModel",
            "placeholder": "​",
            "_view_module": "@jupyter-widgets/controls",
            "_model_module_version": "1.5.0",
            "value": " 0/28881 [00:00&lt;?, ?it/s]",
            "_view_count": null,
            "_view_module_version": "1.5.0",
            "description_tooltip": null,
            "_model_module": "@jupyter-widgets/controls",
            "layout": "IPY_MODEL_3f21d101a9784184b7a4d52c11c90fb4"
          }
        },
        "c8f5517a37b14472b5302a2d3a4258f8": {
          "model_module": "@jupyter-widgets/controls",
          "model_name": "ProgressStyleModel",
          "state": {
            "_view_name": "StyleView",
            "_model_name": "ProgressStyleModel",
            "description_width": "initial",
            "_view_module": "@jupyter-widgets/base",
            "_model_module_version": "1.5.0",
            "_view_count": null,
            "_view_module_version": "1.2.0",
            "bar_color": null,
            "_model_module": "@jupyter-widgets/controls"
          }
        },
        "b283b8ff39ce48db8fc3ab8ce318287b": {
          "model_module": "@jupyter-widgets/base",
          "model_name": "LayoutModel",
          "state": {
            "_view_name": "LayoutView",
            "grid_template_rows": null,
            "right": null,
            "justify_content": null,
            "_view_module": "@jupyter-widgets/base",
            "overflow": null,
            "_model_module_version": "1.2.0",
            "_view_count": null,
            "flex_flow": null,
            "width": null,
            "min_width": null,
            "border": null,
            "align_items": null,
            "bottom": null,
            "_model_module": "@jupyter-widgets/base",
            "top": null,
            "grid_column": null,
            "overflow_y": null,
            "overflow_x": null,
            "grid_auto_flow": null,
            "grid_area": null,
            "grid_template_columns": null,
            "flex": null,
            "_model_name": "LayoutModel",
            "justify_items": null,
            "grid_row": null,
            "max_height": null,
            "align_content": null,
            "visibility": null,
            "align_self": null,
            "height": null,
            "min_height": null,
            "padding": null,
            "grid_auto_rows": null,
            "grid_gap": null,
            "max_width": null,
            "order": null,
            "_view_module_version": "1.2.0",
            "grid_template_areas": null,
            "object_position": null,
            "object_fit": null,
            "grid_auto_columns": null,
            "margin": null,
            "display": null,
            "left": null
          }
        },
        "1c4ba27af08e4e738d5f66af37005da4": {
          "model_module": "@jupyter-widgets/controls",
          "model_name": "DescriptionStyleModel",
          "state": {
            "_view_name": "StyleView",
            "_model_name": "DescriptionStyleModel",
            "description_width": "",
            "_view_module": "@jupyter-widgets/base",
            "_model_module_version": "1.5.0",
            "_view_count": null,
            "_view_module_version": "1.2.0",
            "_model_module": "@jupyter-widgets/controls"
          }
        },
        "3f21d101a9784184b7a4d52c11c90fb4": {
          "model_module": "@jupyter-widgets/base",
          "model_name": "LayoutModel",
          "state": {
            "_view_name": "LayoutView",
            "grid_template_rows": null,
            "right": null,
            "justify_content": null,
            "_view_module": "@jupyter-widgets/base",
            "overflow": null,
            "_model_module_version": "1.2.0",
            "_view_count": null,
            "flex_flow": null,
            "width": null,
            "min_width": null,
            "border": null,
            "align_items": null,
            "bottom": null,
            "_model_module": "@jupyter-widgets/base",
            "top": null,
            "grid_column": null,
            "overflow_y": null,
            "overflow_x": null,
            "grid_auto_flow": null,
            "grid_area": null,
            "grid_template_columns": null,
            "flex": null,
            "_model_name": "LayoutModel",
            "justify_items": null,
            "grid_row": null,
            "max_height": null,
            "align_content": null,
            "visibility": null,
            "align_self": null,
            "height": null,
            "min_height": null,
            "padding": null,
            "grid_auto_rows": null,
            "grid_gap": null,
            "max_width": null,
            "order": null,
            "_view_module_version": "1.2.0",
            "grid_template_areas": null,
            "object_position": null,
            "object_fit": null,
            "grid_auto_columns": null,
            "margin": null,
            "display": null,
            "left": null
          }
        },
        "29112543781f4b268f692893ab8409ee": {
          "model_module": "@jupyter-widgets/controls",
          "model_name": "HBoxModel",
          "state": {
            "_view_name": "HBoxView",
            "_dom_classes": [],
            "_model_name": "HBoxModel",
            "_view_module": "@jupyter-widgets/controls",
            "_model_module_version": "1.5.0",
            "_view_count": null,
            "_view_module_version": "1.5.0",
            "box_style": "",
            "layout": "IPY_MODEL_d738cc0b04054308946e584a117d518c",
            "_model_module": "@jupyter-widgets/controls",
            "children": [
              "IPY_MODEL_b03eb36e8e06446eb965148970fd64ba",
              "IPY_MODEL_6d0c4afeb6814a4f9c762f5dc19e7263"
            ]
          }
        },
        "d738cc0b04054308946e584a117d518c": {
          "model_module": "@jupyter-widgets/base",
          "model_name": "LayoutModel",
          "state": {
            "_view_name": "LayoutView",
            "grid_template_rows": null,
            "right": null,
            "justify_content": null,
            "_view_module": "@jupyter-widgets/base",
            "overflow": null,
            "_model_module_version": "1.2.0",
            "_view_count": null,
            "flex_flow": null,
            "width": null,
            "min_width": null,
            "border": null,
            "align_items": null,
            "bottom": null,
            "_model_module": "@jupyter-widgets/base",
            "top": null,
            "grid_column": null,
            "overflow_y": null,
            "overflow_x": null,
            "grid_auto_flow": null,
            "grid_area": null,
            "grid_template_columns": null,
            "flex": null,
            "_model_name": "LayoutModel",
            "justify_items": null,
            "grid_row": null,
            "max_height": null,
            "align_content": null,
            "visibility": null,
            "align_self": null,
            "height": null,
            "min_height": null,
            "padding": null,
            "grid_auto_rows": null,
            "grid_gap": null,
            "max_width": null,
            "order": null,
            "_view_module_version": "1.2.0",
            "grid_template_areas": null,
            "object_position": null,
            "object_fit": null,
            "grid_auto_columns": null,
            "margin": null,
            "display": null,
            "left": null
          }
        },
        "b03eb36e8e06446eb965148970fd64ba": {
          "model_module": "@jupyter-widgets/controls",
          "model_name": "FloatProgressModel",
          "state": {
            "_view_name": "ProgressView",
            "style": "IPY_MODEL_a9ea5d4803284a02b964b3bb7e1d7724",
            "_dom_classes": [],
            "description": "",
            "_model_name": "FloatProgressModel",
            "bar_style": "info",
            "max": 1,
            "_view_module": "@jupyter-widgets/controls",
            "_model_module_version": "1.5.0",
            "value": 1,
            "_view_count": null,
            "_view_module_version": "1.5.0",
            "orientation": "horizontal",
            "min": 0,
            "description_tooltip": null,
            "_model_module": "@jupyter-widgets/controls",
            "layout": "IPY_MODEL_ded7fe06ed184334ad2d67547f90171b"
          }
        },
        "6d0c4afeb6814a4f9c762f5dc19e7263": {
          "model_module": "@jupyter-widgets/controls",
          "model_name": "HTMLModel",
          "state": {
            "_view_name": "HTMLView",
            "style": "IPY_MODEL_f17c6d9e039f4c5a95d258331c509eb4",
            "_dom_classes": [],
            "description": "",
            "_model_name": "HTMLModel",
            "placeholder": "​",
            "_view_module": "@jupyter-widgets/controls",
            "_model_module_version": "1.5.0",
            "value": " 1654784/? [00:18&lt;00:00, 571218.64it/s]",
            "_view_count": null,
            "_view_module_version": "1.5.0",
            "description_tooltip": null,
            "_model_module": "@jupyter-widgets/controls",
            "layout": "IPY_MODEL_0117bf5d4e6a4b7b840dc46f3575b9d6"
          }
        },
        "a9ea5d4803284a02b964b3bb7e1d7724": {
          "model_module": "@jupyter-widgets/controls",
          "model_name": "ProgressStyleModel",
          "state": {
            "_view_name": "StyleView",
            "_model_name": "ProgressStyleModel",
            "description_width": "initial",
            "_view_module": "@jupyter-widgets/base",
            "_model_module_version": "1.5.0",
            "_view_count": null,
            "_view_module_version": "1.2.0",
            "bar_color": null,
            "_model_module": "@jupyter-widgets/controls"
          }
        },
        "ded7fe06ed184334ad2d67547f90171b": {
          "model_module": "@jupyter-widgets/base",
          "model_name": "LayoutModel",
          "state": {
            "_view_name": "LayoutView",
            "grid_template_rows": null,
            "right": null,
            "justify_content": null,
            "_view_module": "@jupyter-widgets/base",
            "overflow": null,
            "_model_module_version": "1.2.0",
            "_view_count": null,
            "flex_flow": null,
            "width": null,
            "min_width": null,
            "border": null,
            "align_items": null,
            "bottom": null,
            "_model_module": "@jupyter-widgets/base",
            "top": null,
            "grid_column": null,
            "overflow_y": null,
            "overflow_x": null,
            "grid_auto_flow": null,
            "grid_area": null,
            "grid_template_columns": null,
            "flex": null,
            "_model_name": "LayoutModel",
            "justify_items": null,
            "grid_row": null,
            "max_height": null,
            "align_content": null,
            "visibility": null,
            "align_self": null,
            "height": null,
            "min_height": null,
            "padding": null,
            "grid_auto_rows": null,
            "grid_gap": null,
            "max_width": null,
            "order": null,
            "_view_module_version": "1.2.0",
            "grid_template_areas": null,
            "object_position": null,
            "object_fit": null,
            "grid_auto_columns": null,
            "margin": null,
            "display": null,
            "left": null
          }
        },
        "f17c6d9e039f4c5a95d258331c509eb4": {
          "model_module": "@jupyter-widgets/controls",
          "model_name": "DescriptionStyleModel",
          "state": {
            "_view_name": "StyleView",
            "_model_name": "DescriptionStyleModel",
            "description_width": "",
            "_view_module": "@jupyter-widgets/base",
            "_model_module_version": "1.5.0",
            "_view_count": null,
            "_view_module_version": "1.2.0",
            "_model_module": "@jupyter-widgets/controls"
          }
        },
        "0117bf5d4e6a4b7b840dc46f3575b9d6": {
          "model_module": "@jupyter-widgets/base",
          "model_name": "LayoutModel",
          "state": {
            "_view_name": "LayoutView",
            "grid_template_rows": null,
            "right": null,
            "justify_content": null,
            "_view_module": "@jupyter-widgets/base",
            "overflow": null,
            "_model_module_version": "1.2.0",
            "_view_count": null,
            "flex_flow": null,
            "width": null,
            "min_width": null,
            "border": null,
            "align_items": null,
            "bottom": null,
            "_model_module": "@jupyter-widgets/base",
            "top": null,
            "grid_column": null,
            "overflow_y": null,
            "overflow_x": null,
            "grid_auto_flow": null,
            "grid_area": null,
            "grid_template_columns": null,
            "flex": null,
            "_model_name": "LayoutModel",
            "justify_items": null,
            "grid_row": null,
            "max_height": null,
            "align_content": null,
            "visibility": null,
            "align_self": null,
            "height": null,
            "min_height": null,
            "padding": null,
            "grid_auto_rows": null,
            "grid_gap": null,
            "max_width": null,
            "order": null,
            "_view_module_version": "1.2.0",
            "grid_template_areas": null,
            "object_position": null,
            "object_fit": null,
            "grid_auto_columns": null,
            "margin": null,
            "display": null,
            "left": null
          }
        },
        "8644ac65844648aeb71e6a21ef1d94d1": {
          "model_module": "@jupyter-widgets/controls",
          "model_name": "HBoxModel",
          "state": {
            "_view_name": "HBoxView",
            "_dom_classes": [],
            "_model_name": "HBoxModel",
            "_view_module": "@jupyter-widgets/controls",
            "_model_module_version": "1.5.0",
            "_view_count": null,
            "_view_module_version": "1.5.0",
            "box_style": "",
            "layout": "IPY_MODEL_844da76a989942a4955b980ba32ebe4f",
            "_model_module": "@jupyter-widgets/controls",
            "children": [
              "IPY_MODEL_1f771de992e8429b838d21daa6c38cdd",
              "IPY_MODEL_5b1832774e694eb2bafe2637e5dab3c8"
            ]
          }
        },
        "844da76a989942a4955b980ba32ebe4f": {
          "model_module": "@jupyter-widgets/base",
          "model_name": "LayoutModel",
          "state": {
            "_view_name": "LayoutView",
            "grid_template_rows": null,
            "right": null,
            "justify_content": null,
            "_view_module": "@jupyter-widgets/base",
            "overflow": null,
            "_model_module_version": "1.2.0",
            "_view_count": null,
            "flex_flow": null,
            "width": null,
            "min_width": null,
            "border": null,
            "align_items": null,
            "bottom": null,
            "_model_module": "@jupyter-widgets/base",
            "top": null,
            "grid_column": null,
            "overflow_y": null,
            "overflow_x": null,
            "grid_auto_flow": null,
            "grid_area": null,
            "grid_template_columns": null,
            "flex": null,
            "_model_name": "LayoutModel",
            "justify_items": null,
            "grid_row": null,
            "max_height": null,
            "align_content": null,
            "visibility": null,
            "align_self": null,
            "height": null,
            "min_height": null,
            "padding": null,
            "grid_auto_rows": null,
            "grid_gap": null,
            "max_width": null,
            "order": null,
            "_view_module_version": "1.2.0",
            "grid_template_areas": null,
            "object_position": null,
            "object_fit": null,
            "grid_auto_columns": null,
            "margin": null,
            "display": null,
            "left": null
          }
        },
        "1f771de992e8429b838d21daa6c38cdd": {
          "model_module": "@jupyter-widgets/controls",
          "model_name": "FloatProgressModel",
          "state": {
            "_view_name": "ProgressView",
            "style": "IPY_MODEL_850b76f951154a059f88067ed86c5394",
            "_dom_classes": [],
            "description": "  0%",
            "_model_name": "FloatProgressModel",
            "bar_style": "info",
            "max": 1,
            "_view_module": "@jupyter-widgets/controls",
            "_model_module_version": "1.5.0",
            "value": 0,
            "_view_count": null,
            "_view_module_version": "1.5.0",
            "orientation": "horizontal",
            "min": 0,
            "description_tooltip": null,
            "_model_module": "@jupyter-widgets/controls",
            "layout": "IPY_MODEL_a47fa47eeffc481c80ac07a6b7fcbbfb"
          }
        },
        "5b1832774e694eb2bafe2637e5dab3c8": {
          "model_module": "@jupyter-widgets/controls",
          "model_name": "HTMLModel",
          "state": {
            "_view_name": "HTMLView",
            "style": "IPY_MODEL_f79c4144c25c467b9b422fff44da6c37",
            "_dom_classes": [],
            "description": "",
            "_model_name": "HTMLModel",
            "placeholder": "​",
            "_view_module": "@jupyter-widgets/controls",
            "_model_module_version": "1.5.0",
            "value": " 0/4542 [00:00&lt;?, ?it/s]",
            "_view_count": null,
            "_view_module_version": "1.5.0",
            "description_tooltip": null,
            "_model_module": "@jupyter-widgets/controls",
            "layout": "IPY_MODEL_405a676d25344f949de523490a331ff9"
          }
        },
        "850b76f951154a059f88067ed86c5394": {
          "model_module": "@jupyter-widgets/controls",
          "model_name": "ProgressStyleModel",
          "state": {
            "_view_name": "StyleView",
            "_model_name": "ProgressStyleModel",
            "description_width": "initial",
            "_view_module": "@jupyter-widgets/base",
            "_model_module_version": "1.5.0",
            "_view_count": null,
            "_view_module_version": "1.2.0",
            "bar_color": null,
            "_model_module": "@jupyter-widgets/controls"
          }
        },
        "a47fa47eeffc481c80ac07a6b7fcbbfb": {
          "model_module": "@jupyter-widgets/base",
          "model_name": "LayoutModel",
          "state": {
            "_view_name": "LayoutView",
            "grid_template_rows": null,
            "right": null,
            "justify_content": null,
            "_view_module": "@jupyter-widgets/base",
            "overflow": null,
            "_model_module_version": "1.2.0",
            "_view_count": null,
            "flex_flow": null,
            "width": null,
            "min_width": null,
            "border": null,
            "align_items": null,
            "bottom": null,
            "_model_module": "@jupyter-widgets/base",
            "top": null,
            "grid_column": null,
            "overflow_y": null,
            "overflow_x": null,
            "grid_auto_flow": null,
            "grid_area": null,
            "grid_template_columns": null,
            "flex": null,
            "_model_name": "LayoutModel",
            "justify_items": null,
            "grid_row": null,
            "max_height": null,
            "align_content": null,
            "visibility": null,
            "align_self": null,
            "height": null,
            "min_height": null,
            "padding": null,
            "grid_auto_rows": null,
            "grid_gap": null,
            "max_width": null,
            "order": null,
            "_view_module_version": "1.2.0",
            "grid_template_areas": null,
            "object_position": null,
            "object_fit": null,
            "grid_auto_columns": null,
            "margin": null,
            "display": null,
            "left": null
          }
        },
        "f79c4144c25c467b9b422fff44da6c37": {
          "model_module": "@jupyter-widgets/controls",
          "model_name": "DescriptionStyleModel",
          "state": {
            "_view_name": "StyleView",
            "_model_name": "DescriptionStyleModel",
            "description_width": "",
            "_view_module": "@jupyter-widgets/base",
            "_model_module_version": "1.5.0",
            "_view_count": null,
            "_view_module_version": "1.2.0",
            "_model_module": "@jupyter-widgets/controls"
          }
        },
        "405a676d25344f949de523490a331ff9": {
          "model_module": "@jupyter-widgets/base",
          "model_name": "LayoutModel",
          "state": {
            "_view_name": "LayoutView",
            "grid_template_rows": null,
            "right": null,
            "justify_content": null,
            "_view_module": "@jupyter-widgets/base",
            "overflow": null,
            "_model_module_version": "1.2.0",
            "_view_count": null,
            "flex_flow": null,
            "width": null,
            "min_width": null,
            "border": null,
            "align_items": null,
            "bottom": null,
            "_model_module": "@jupyter-widgets/base",
            "top": null,
            "grid_column": null,
            "overflow_y": null,
            "overflow_x": null,
            "grid_auto_flow": null,
            "grid_area": null,
            "grid_template_columns": null,
            "flex": null,
            "_model_name": "LayoutModel",
            "justify_items": null,
            "grid_row": null,
            "max_height": null,
            "align_content": null,
            "visibility": null,
            "align_self": null,
            "height": null,
            "min_height": null,
            "padding": null,
            "grid_auto_rows": null,
            "grid_gap": null,
            "max_width": null,
            "order": null,
            "_view_module_version": "1.2.0",
            "grid_template_areas": null,
            "object_position": null,
            "object_fit": null,
            "grid_auto_columns": null,
            "margin": null,
            "display": null,
            "left": null
          }
        }
      }
    }
  },
  "cells": [
    {
      "cell_type": "code",
      "metadata": {
        "id": "6GWa_QSI4XVN",
        "colab_type": "code",
        "colab": {}
      },
      "source": [
        "#Resources: https://www.youtube.com/watch?v=BzcBsTou0C0&list=PLQVvvaa0QuDdeMyHEYc0gxFpYwHY2Qfdh&index=1\n",
        "\n",
        "import torch\n",
        "import torchvision #datasets\n",
        "import matplotlib.pyplot as plt\n",
        "import matplotlib.pyplot as plt\n",
        "import torch.optim as optim\n",
        "from torchvision import transforms, datasets\n",
        "import torch.nn as nn\n",
        "import torch.nn.functional as F"
      ],
      "execution_count": 0,
      "outputs": []
    },
    {
      "cell_type": "code",
      "metadata": {
        "id": "t5h6z7fk9k8G",
        "colab_type": "code",
        "outputId": "e5673a5f-e130-446c-ddbc-99ffa21469b6",
        "colab": {
          "base_uri": "https://localhost:8080/",
          "height": 34
        }
      },
      "source": [
        "#A tensor is a generalization of vectors and matrices and is easily understood as a multidimensional array.\n",
        "x = torch.Tensor([5,3])\n",
        "y = torch.Tensor([2,1])\n",
        "\n",
        "print(x*y)"
      ],
      "execution_count": 0,
      "outputs": [
        {
          "output_type": "stream",
          "text": [
            "tensor([10.,  3.])\n"
          ],
          "name": "stdout"
        }
      ]
    },
    {
      "cell_type": "code",
      "metadata": {
        "id": "VFy3FJIJ95H7",
        "colab_type": "code",
        "outputId": "c6e35cf0-7aa3-44c6-bdc5-ee88a10f499b",
        "colab": {
          "base_uri": "https://localhost:8080/",
          "height": 68
        }
      },
      "source": [
        "#Numpy calls tensors (high dimensional matrices or vectors) arrays while in PyTorch there’s just called tensors. \n",
        "#In terms of array operations, pytorch is considerably fast over numpy.\n",
        "#Even if you already know Numpy, there are still a couple of reasons to switch to PyTorch for tensor computation. The main reason is the GPU acceleration. \n",
        "#As you’ll see, using a GPU with PyTorch is super easy and super fast. If you do large computations, this is beneficial because it speeds things up a lot.\n",
        "x = torch.zeros(2,5)\n",
        "print(x)\n",
        "print(x.shape)"
      ],
      "execution_count": 0,
      "outputs": [
        {
          "output_type": "stream",
          "text": [
            "tensor([[0., 0., 0., 0., 0.],\n",
            "        [0., 0., 0., 0., 0.]])\n",
            "torch.Size([2, 5])\n"
          ],
          "name": "stdout"
        }
      ]
    },
    {
      "cell_type": "code",
      "metadata": {
        "id": "dcVpWggA-pGo",
        "colab_type": "code",
        "outputId": "8832c6ff-db9a-4026-87f0-b4cd418da7c4",
        "colab": {
          "base_uri": "https://localhost:8080/",
          "height": 85
        }
      },
      "source": [
        "y = torch.rand(2,10) \n",
        "print(y)"
      ],
      "execution_count": 0,
      "outputs": [
        {
          "output_type": "stream",
          "text": [
            "tensor([[0.4221, 0.2700, 0.0029, 0.2225, 0.8350, 0.0611, 0.6138, 0.8387, 0.5951,\n",
            "         0.9001],\n",
            "        [0.6105, 0.8458, 0.0523, 0.8411, 0.2246, 0.5174, 0.5468, 0.6021, 0.1025,\n",
            "         0.1139]])\n"
          ],
          "name": "stdout"
        }
      ]
    },
    {
      "cell_type": "code",
      "metadata": {
        "id": "jZLxdOkI_CTI",
        "colab_type": "code",
        "outputId": "13a47b13-6e35-49dd-bfa5-57e6d5de3371",
        "colab": {
          "base_uri": "https://localhost:8080/",
          "height": 68
        }
      },
      "source": [
        "#A flatten operation on a tensor reshapes the tensor to have a shape that is equal to the number of elements contained in the tensor. \n",
        "#This is the same thing as a 1d-array of elements. Flattening a tensor means to remove all of the dimensions except for one.\n",
        "y = torch.flatten(y)\n",
        "print(y)\n",
        "#y.view([1,20])"
      ],
      "execution_count": 0,
      "outputs": [
        {
          "output_type": "stream",
          "text": [
            "tensor([0.4221, 0.2700, 0.0029, 0.2225, 0.8350, 0.0611, 0.6138, 0.8387, 0.5951,\n",
            "        0.9001, 0.6105, 0.8458, 0.0523, 0.8411, 0.2246, 0.5174, 0.5468, 0.6021,\n",
            "        0.1025, 0.1139])\n"
          ],
          "name": "stdout"
        }
      ]
    },
    {
      "cell_type": "code",
      "metadata": {
        "id": "dcO36FB-_fYJ",
        "colab_type": "code",
        "outputId": "9ce6d20c-f31a-421c-9064-a3d7c589e445",
        "colab": {
          "base_uri": "https://localhost:8080/",
          "height": 352,
          "referenced_widgets": [
            "2eaeabcea49c42c693b19a9801f1120d",
            "e0c57f45d13d4c5694bb5414ad6302bf",
            "b452cc0ee36e4b92ae36c5982e2502eb",
            "7a0f0630b99349ddb0f84e456a3ffe85",
            "4fd8e223ed2b4d4ea5433b2d7eb717af",
            "183ac36bb3bf4b4c93231172587dd030",
            "744cf3c86e4f438da74a34cbc4ead4e2",
            "98f4ae59b4004bb08a0cd60cc48b048e",
            "65de7d7a488a44479ccb23d233c81f44",
            "059f682f99094e5192f43ed36c645dc6",
            "9d3fd8e8d409416b8ebf964d8fa9ba25",
            "7122f44c6206450e93caddb3b51c56ca",
            "c8f5517a37b14472b5302a2d3a4258f8",
            "b283b8ff39ce48db8fc3ab8ce318287b",
            "1c4ba27af08e4e738d5f66af37005da4",
            "3f21d101a9784184b7a4d52c11c90fb4",
            "29112543781f4b268f692893ab8409ee",
            "d738cc0b04054308946e584a117d518c",
            "b03eb36e8e06446eb965148970fd64ba",
            "6d0c4afeb6814a4f9c762f5dc19e7263",
            "a9ea5d4803284a02b964b3bb7e1d7724",
            "ded7fe06ed184334ad2d67547f90171b",
            "f17c6d9e039f4c5a95d258331c509eb4",
            "0117bf5d4e6a4b7b840dc46f3575b9d6",
            "8644ac65844648aeb71e6a21ef1d94d1",
            "844da76a989942a4955b980ba32ebe4f",
            "1f771de992e8429b838d21daa6c38cdd",
            "5b1832774e694eb2bafe2637e5dab3c8",
            "850b76f951154a059f88067ed86c5394",
            "a47fa47eeffc481c80ac07a6b7fcbbfb",
            "f79c4144c25c467b9b422fff44da6c37",
            "405a676d25344f949de523490a331ff9"
          ]
        }
      },
      "source": [
        "#We are going to work with the MNIST dataset\n",
        "#Transforms are common image transformations. They can be chained together using Compose. It basically composes several transforms together.\n",
        "train_df = datasets.MNIST(\"\", train=True, download=True, transform=transforms.Compose([transforms.ToTensor()])) \n",
        "test_df = datasets.MNIST(\"\", train=False, download=True, transform=transforms.Compose([transforms.ToTensor()])) "
      ],
      "execution_count": 0,
      "outputs": [
        {
          "output_type": "stream",
          "text": [
            "Downloading http://yann.lecun.com/exdb/mnist/train-images-idx3-ubyte.gz to MNIST/raw/train-images-idx3-ubyte.gz\n"
          ],
          "name": "stdout"
        },
        {
          "output_type": "display_data",
          "data": {
            "application/vnd.jupyter.widget-view+json": {
              "model_id": "2eaeabcea49c42c693b19a9801f1120d",
              "version_minor": 0,
              "version_major": 2
            },
            "text/plain": [
              "HBox(children=(FloatProgress(value=1.0, bar_style='info', max=1.0), HTML(value='')))"
            ]
          },
          "metadata": {
            "tags": []
          }
        },
        {
          "output_type": "stream",
          "text": [
            "Extracting MNIST/raw/train-images-idx3-ubyte.gz to MNIST/raw\n",
            "Downloading http://yann.lecun.com/exdb/mnist/train-labels-idx1-ubyte.gz to MNIST/raw/train-labels-idx1-ubyte.gz\n"
          ],
          "name": "stdout"
        },
        {
          "output_type": "display_data",
          "data": {
            "application/vnd.jupyter.widget-view+json": {
              "model_id": "65de7d7a488a44479ccb23d233c81f44",
              "version_minor": 0,
              "version_major": 2
            },
            "text/plain": [
              "HBox(children=(FloatProgress(value=1.0, bar_style='info', max=1.0), HTML(value='')))"
            ]
          },
          "metadata": {
            "tags": []
          }
        },
        {
          "output_type": "stream",
          "text": [
            "Extracting MNIST/raw/train-labels-idx1-ubyte.gz to MNIST/raw\n",
            "Downloading http://yann.lecun.com/exdb/mnist/t10k-images-idx3-ubyte.gz to MNIST/raw/t10k-images-idx3-ubyte.gz\n"
          ],
          "name": "stdout"
        },
        {
          "output_type": "display_data",
          "data": {
            "application/vnd.jupyter.widget-view+json": {
              "model_id": "29112543781f4b268f692893ab8409ee",
              "version_minor": 0,
              "version_major": 2
            },
            "text/plain": [
              "HBox(children=(FloatProgress(value=1.0, bar_style='info', max=1.0), HTML(value='')))"
            ]
          },
          "metadata": {
            "tags": []
          }
        },
        {
          "output_type": "stream",
          "text": [
            "Extracting MNIST/raw/t10k-images-idx3-ubyte.gz to MNIST/raw\n",
            "Downloading http://yann.lecun.com/exdb/mnist/t10k-labels-idx1-ubyte.gz to MNIST/raw/t10k-labels-idx1-ubyte.gz\n"
          ],
          "name": "stdout"
        },
        {
          "output_type": "display_data",
          "data": {
            "application/vnd.jupyter.widget-view+json": {
              "model_id": "8644ac65844648aeb71e6a21ef1d94d1",
              "version_minor": 0,
              "version_major": 2
            },
            "text/plain": [
              "HBox(children=(FloatProgress(value=1.0, bar_style='info', max=1.0), HTML(value='')))"
            ]
          },
          "metadata": {
            "tags": []
          }
        },
        {
          "output_type": "stream",
          "text": [
            "Extracting MNIST/raw/t10k-labels-idx1-ubyte.gz to MNIST/raw\n",
            "Processing...\n",
            "Done!\n"
          ],
          "name": "stdout"
        },
        {
          "output_type": "stream",
          "text": [
            "/pytorch/torch/csrc/utils/tensor_numpy.cpp:141: UserWarning: The given NumPy array is not writeable, and PyTorch does not support non-writeable tensors. This means you can write to the underlying (supposedly non-writeable) NumPy array using the tensor. You may want to copy the array to protect its data or make it writeable before converting it to a tensor. This type of warning will be suppressed for the rest of this program.\n"
          ],
          "name": "stderr"
        }
      ]
    },
    {
      "cell_type": "code",
      "metadata": {
        "id": "CdUnaaOIAEzk",
        "colab_type": "code",
        "colab": {}
      },
      "source": [
        "#At the heart of PyTorch data loading utility is the torch.utils.data.DataLoader class. It represents a Python iterable over a dataset.\n",
        "trainset = torch.utils.data.DataLoader(train_df, batch_size=10, shuffle=True)\n",
        "testset = torch.utils.data.DataLoader(test_df, batch_size=10, shuffle=True)"
      ],
      "execution_count": 0,
      "outputs": []
    },
    {
      "cell_type": "code",
      "metadata": {
        "id": "qm7MbwCDC96n",
        "colab_type": "code",
        "outputId": "99438eba-f8d0-4407-dde9-c9be682ac2e7",
        "colab": {
          "base_uri": "https://localhost:8080/",
          "height": 952
        }
      },
      "source": [
        "#Iterate over data\n",
        "for data in trainset:\n",
        "  print(data)\n",
        "  break\n",
        "\n",
        "#This is our entire batch and so it'll be 10 examples of handwritten digits and then 10 tensors of the actual output "
      ],
      "execution_count": 0,
      "outputs": [
        {
          "output_type": "stream",
          "text": [
            "[tensor([[[[0., 0., 0.,  ..., 0., 0., 0.],\n",
            "          [0., 0., 0.,  ..., 0., 0., 0.],\n",
            "          [0., 0., 0.,  ..., 0., 0., 0.],\n",
            "          ...,\n",
            "          [0., 0., 0.,  ..., 0., 0., 0.],\n",
            "          [0., 0., 0.,  ..., 0., 0., 0.],\n",
            "          [0., 0., 0.,  ..., 0., 0., 0.]]],\n",
            "\n",
            "\n",
            "        [[[0., 0., 0.,  ..., 0., 0., 0.],\n",
            "          [0., 0., 0.,  ..., 0., 0., 0.],\n",
            "          [0., 0., 0.,  ..., 0., 0., 0.],\n",
            "          ...,\n",
            "          [0., 0., 0.,  ..., 0., 0., 0.],\n",
            "          [0., 0., 0.,  ..., 0., 0., 0.],\n",
            "          [0., 0., 0.,  ..., 0., 0., 0.]]],\n",
            "\n",
            "\n",
            "        [[[0., 0., 0.,  ..., 0., 0., 0.],\n",
            "          [0., 0., 0.,  ..., 0., 0., 0.],\n",
            "          [0., 0., 0.,  ..., 0., 0., 0.],\n",
            "          ...,\n",
            "          [0., 0., 0.,  ..., 0., 0., 0.],\n",
            "          [0., 0., 0.,  ..., 0., 0., 0.],\n",
            "          [0., 0., 0.,  ..., 0., 0., 0.]]],\n",
            "\n",
            "\n",
            "        ...,\n",
            "\n",
            "\n",
            "        [[[0., 0., 0.,  ..., 0., 0., 0.],\n",
            "          [0., 0., 0.,  ..., 0., 0., 0.],\n",
            "          [0., 0., 0.,  ..., 0., 0., 0.],\n",
            "          ...,\n",
            "          [0., 0., 0.,  ..., 0., 0., 0.],\n",
            "          [0., 0., 0.,  ..., 0., 0., 0.],\n",
            "          [0., 0., 0.,  ..., 0., 0., 0.]]],\n",
            "\n",
            "\n",
            "        [[[0., 0., 0.,  ..., 0., 0., 0.],\n",
            "          [0., 0., 0.,  ..., 0., 0., 0.],\n",
            "          [0., 0., 0.,  ..., 0., 0., 0.],\n",
            "          ...,\n",
            "          [0., 0., 0.,  ..., 0., 0., 0.],\n",
            "          [0., 0., 0.,  ..., 0., 0., 0.],\n",
            "          [0., 0., 0.,  ..., 0., 0., 0.]]],\n",
            "\n",
            "\n",
            "        [[[0., 0., 0.,  ..., 0., 0., 0.],\n",
            "          [0., 0., 0.,  ..., 0., 0., 0.],\n",
            "          [0., 0., 0.,  ..., 0., 0., 0.],\n",
            "          ...,\n",
            "          [0., 0., 0.,  ..., 0., 0., 0.],\n",
            "          [0., 0., 0.,  ..., 0., 0., 0.],\n",
            "          [0., 0., 0.,  ..., 0., 0., 0.]]]]), tensor([5, 9, 6, 0, 4, 1, 4, 9, 9, 9])]\n"
          ],
          "name": "stdout"
        }
      ]
    },
    {
      "cell_type": "code",
      "metadata": {
        "id": "NT_uTSu0Ez9F",
        "colab_type": "code",
        "outputId": "310f083b-a55f-4415-86dc-a9f1839211b0",
        "colab": {
          "base_uri": "https://localhost:8080/",
          "height": 1000
        }
      },
      "source": [
        "x, y = data[0][0], data[1][0]\n",
        "print(x)\n",
        "print(y)"
      ],
      "execution_count": 0,
      "outputs": [
        {
          "output_type": "stream",
          "text": [
            "tensor([[[0.0000, 0.0000, 0.0000, 0.0000, 0.0000, 0.0000, 0.0000, 0.0000,\n",
            "          0.0000, 0.0000, 0.0000, 0.0000, 0.0000, 0.0000, 0.0000, 0.0000,\n",
            "          0.0000, 0.0000, 0.0000, 0.0000, 0.0000, 0.0000, 0.0000, 0.0000,\n",
            "          0.0000, 0.0000, 0.0000, 0.0000],\n",
            "         [0.0000, 0.0000, 0.0000, 0.0000, 0.0000, 0.0000, 0.0000, 0.0000,\n",
            "          0.0000, 0.0000, 0.0000, 0.0000, 0.0000, 0.0000, 0.0000, 0.0000,\n",
            "          0.0000, 0.0000, 0.0000, 0.0000, 0.0000, 0.0000, 0.0000, 0.0000,\n",
            "          0.0000, 0.0000, 0.0000, 0.0000],\n",
            "         [0.0000, 0.0000, 0.0000, 0.0000, 0.0000, 0.0000, 0.0000, 0.0000,\n",
            "          0.0000, 0.0000, 0.0000, 0.0000, 0.0000, 0.0000, 0.0000, 0.0000,\n",
            "          0.0000, 0.0000, 0.0000, 0.0000, 0.0000, 0.0000, 0.0000, 0.0000,\n",
            "          0.0000, 0.0000, 0.0000, 0.0000],\n",
            "         [0.0000, 0.0000, 0.0000, 0.0000, 0.0000, 0.0000, 0.0000, 0.0000,\n",
            "          0.0000, 0.0000, 0.0000, 0.0000, 0.0000, 0.0000, 0.0000, 0.0000,\n",
            "          0.0000, 0.0000, 0.0000, 0.0000, 0.0000, 0.0000, 0.0000, 0.0000,\n",
            "          0.0000, 0.0000, 0.0000, 0.0000],\n",
            "         [0.0000, 0.0000, 0.0000, 0.0000, 0.0000, 0.0000, 0.0000, 0.0000,\n",
            "          0.0000, 0.0000, 0.0000, 0.0000, 0.0000, 0.0000, 0.0000, 0.0000,\n",
            "          0.0000, 0.0000, 0.0000, 0.0000, 0.0000, 0.0000, 0.0000, 0.0000,\n",
            "          0.0000, 0.0000, 0.0000, 0.0000],\n",
            "         [0.0000, 0.0000, 0.0000, 0.0000, 0.0000, 0.0000, 0.0000, 0.0000,\n",
            "          0.0000, 0.0000, 0.0000, 0.0000, 0.0000, 0.1608, 0.5961, 0.7569,\n",
            "          0.5176, 0.2000, 0.5961, 0.2784, 0.2000, 0.2000, 0.1608, 0.0000,\n",
            "          0.0000, 0.0000, 0.0000, 0.0000],\n",
            "         [0.0000, 0.0000, 0.0000, 0.0000, 0.0000, 0.0000, 0.0000, 0.0000,\n",
            "          0.0000, 0.0000, 0.0000, 0.0000, 0.0824, 0.8745, 0.9922, 0.9882,\n",
            "          0.9922, 0.9882, 0.9922, 0.9882, 0.9922, 0.9882, 0.9529, 0.7961,\n",
            "          0.7961, 0.4784, 0.0000, 0.0000],\n",
            "         [0.0000, 0.0000, 0.0000, 0.0000, 0.0000, 0.0000, 0.0000, 0.0000,\n",
            "          0.0000, 0.0000, 0.0000, 0.0000, 0.0824, 0.8745, 0.7961, 0.4000,\n",
            "          0.4824, 0.7961, 0.7961, 0.7961, 0.7961, 0.8745, 0.9569, 0.7961,\n",
            "          0.5569, 0.2392, 0.0000, 0.0000],\n",
            "         [0.0000, 0.0000, 0.0000, 0.0000, 0.0000, 0.0000, 0.0000, 0.0000,\n",
            "          0.0000, 0.1608, 0.6392, 0.6353, 0.0000, 0.1569, 0.0784, 0.0000,\n",
            "          0.0000, 0.0000, 0.0000, 0.0000, 0.0000, 0.0784, 0.1569, 0.0000,\n",
            "          0.0000, 0.0000, 0.0000, 0.0000],\n",
            "         [0.0000, 0.0000, 0.0000, 0.0000, 0.0000, 0.0000, 0.0000, 0.0000,\n",
            "          0.0000, 0.4000, 0.9961, 0.9922, 0.0000, 0.0000, 0.0000, 0.0000,\n",
            "          0.0000, 0.0000, 0.0000, 0.0000, 0.0000, 0.0000, 0.0000, 0.0000,\n",
            "          0.0000, 0.0000, 0.0000, 0.0000],\n",
            "         [0.0000, 0.0000, 0.0000, 0.0000, 0.0000, 0.0000, 0.0000, 0.0000,\n",
            "          0.0000, 0.7176, 0.9922, 0.8314, 0.0000, 0.0000, 0.0000, 0.0000,\n",
            "          0.0000, 0.0000, 0.0000, 0.0000, 0.0000, 0.0000, 0.0000, 0.0000,\n",
            "          0.0000, 0.0000, 0.0000, 0.0000],\n",
            "         [0.0000, 0.0000, 0.0000, 0.0000, 0.0000, 0.0000, 0.0000, 0.0000,\n",
            "          0.6784, 0.9922, 0.9961, 0.6745, 0.2000, 0.2000, 0.2000, 0.1216,\n",
            "          0.0000, 0.0000, 0.0000, 0.0000, 0.0000, 0.0000, 0.0000, 0.0000,\n",
            "          0.0000, 0.0000, 0.0000, 0.0000],\n",
            "         [0.0000, 0.0000, 0.0000, 0.0000, 0.0000, 0.0000, 0.0000, 0.1608,\n",
            "          0.9922, 0.9882, 0.9922, 0.9882, 0.9922, 0.9882, 0.9922, 0.9098,\n",
            "          0.7961, 0.7961, 0.1608, 0.0000, 0.0000, 0.0000, 0.0000, 0.0000,\n",
            "          0.0000, 0.0000, 0.0000, 0.0000],\n",
            "         [0.0000, 0.0000, 0.0000, 0.0000, 0.0000, 0.0000, 0.1216, 0.9137,\n",
            "          0.9961, 0.9922, 0.9961, 0.9922, 0.9961, 0.9922, 0.9961, 0.9922,\n",
            "          0.9961, 0.9922, 0.9961, 0.5137, 0.0000, 0.0000, 0.0000, 0.0000,\n",
            "          0.0000, 0.0000, 0.0000, 0.0000],\n",
            "         [0.0000, 0.0000, 0.0000, 0.0000, 0.0000, 0.0000, 0.5176, 0.9882,\n",
            "          0.9922, 0.9882, 0.5922, 0.5922, 0.1961, 0.1961, 0.1961, 0.1961,\n",
            "          0.4392, 0.9098, 0.9922, 0.9882, 0.3216, 0.0000, 0.0000, 0.0000,\n",
            "          0.0000, 0.0000, 0.0000, 0.0000],\n",
            "         [0.0000, 0.0000, 0.0000, 0.0000, 0.0000, 0.0000, 0.0824, 0.7176,\n",
            "          0.9961, 0.5922, 0.0000, 0.0000, 0.0000, 0.0000, 0.0000, 0.0000,\n",
            "          0.0000, 0.1608, 0.9176, 0.9922, 0.7961, 0.0000, 0.0000, 0.0000,\n",
            "          0.0000, 0.0000, 0.0000, 0.0000],\n",
            "         [0.0000, 0.0000, 0.0000, 0.0000, 0.0000, 0.0000, 0.0000, 0.0000,\n",
            "          0.9922, 0.5922, 0.0000, 0.0000, 0.0000, 0.0000, 0.0000, 0.0000,\n",
            "          0.0000, 0.0000, 0.2784, 0.9882, 0.7961, 0.0000, 0.0000, 0.0000,\n",
            "          0.0000, 0.0000, 0.0000, 0.0000],\n",
            "         [0.0000, 0.0000, 0.0000, 0.0000, 0.0000, 0.0000, 0.0000, 0.6392,\n",
            "          0.9961, 0.1961, 0.0000, 0.0000, 0.0000, 0.0000, 0.0000, 0.0000,\n",
            "          0.0000, 0.0000, 0.2824, 0.9922, 0.7961, 0.0000, 0.0000, 0.0000,\n",
            "          0.0000, 0.0000, 0.0000, 0.0000],\n",
            "         [0.0000, 0.0000, 0.0000, 0.0000, 0.0000, 0.0000, 0.0000, 0.7961,\n",
            "          0.9922, 0.1961, 0.0000, 0.0000, 0.0000, 0.0000, 0.0000, 0.0000,\n",
            "          0.0000, 0.0000, 0.5961, 0.9882, 0.7961, 0.0000, 0.0000, 0.0000,\n",
            "          0.0000, 0.0000, 0.0000, 0.0000],\n",
            "         [0.0000, 0.0000, 0.0000, 0.0000, 0.0000, 0.0000, 0.2000, 0.9922,\n",
            "          0.9961, 0.1961, 0.0000, 0.0000, 0.0000, 0.0000, 0.0000, 0.0000,\n",
            "          0.0000, 0.3216, 0.9961, 0.9922, 0.5569, 0.0000, 0.0000, 0.0000,\n",
            "          0.0000, 0.0000, 0.0000, 0.0000],\n",
            "         [0.0000, 0.0000, 0.0000, 0.0000, 0.0000, 0.0000, 0.2000, 0.9882,\n",
            "          0.9922, 0.1961, 0.0000, 0.0000, 0.0000, 0.0000, 0.0000, 0.0000,\n",
            "          0.1608, 0.9529, 0.9922, 0.8314, 0.2392, 0.0000, 0.0000, 0.0000,\n",
            "          0.0000, 0.0000, 0.0000, 0.0000],\n",
            "         [0.0000, 0.0000, 0.0000, 0.0000, 0.0000, 0.0000, 0.0824, 0.8745,\n",
            "          1.0000, 0.4392, 0.0000, 0.0000, 0.0000, 0.0000, 0.1216, 0.6784,\n",
            "          0.9961, 0.9922, 0.9569, 0.1569, 0.0000, 0.0000, 0.0000, 0.0000,\n",
            "          0.0000, 0.0000, 0.0000, 0.0000],\n",
            "         [0.0000, 0.0000, 0.0000, 0.0000, 0.0000, 0.0000, 0.0000, 0.6353,\n",
            "          0.9922, 0.9098, 0.5569, 0.4000, 0.2431, 0.7176, 0.9137, 0.9882,\n",
            "          0.9922, 0.8314, 0.1569, 0.0000, 0.0000, 0.0000, 0.0000, 0.0000,\n",
            "          0.0000, 0.0000, 0.0000, 0.0000],\n",
            "         [0.0000, 0.0000, 0.0000, 0.0000, 0.0000, 0.0000, 0.0000, 0.0000,\n",
            "          0.6784, 0.9922, 1.0000, 0.9922, 0.9961, 0.9922, 0.9961, 0.9137,\n",
            "          0.4824, 0.0000, 0.0000, 0.0000, 0.0000, 0.0000, 0.0000, 0.0000,\n",
            "          0.0000, 0.0000, 0.0000, 0.0000],\n",
            "         [0.0000, 0.0000, 0.0000, 0.0000, 0.0000, 0.0000, 0.0000, 0.0000,\n",
            "          0.0392, 0.3569, 0.8353, 0.9882, 0.9922, 0.6706, 0.5137, 0.1176,\n",
            "          0.0000, 0.0000, 0.0000, 0.0000, 0.0000, 0.0000, 0.0000, 0.0000,\n",
            "          0.0000, 0.0000, 0.0000, 0.0000],\n",
            "         [0.0000, 0.0000, 0.0000, 0.0000, 0.0000, 0.0000, 0.0000, 0.0000,\n",
            "          0.0000, 0.0000, 0.0000, 0.0000, 0.0000, 0.0000, 0.0000, 0.0000,\n",
            "          0.0000, 0.0000, 0.0000, 0.0000, 0.0000, 0.0000, 0.0000, 0.0000,\n",
            "          0.0000, 0.0000, 0.0000, 0.0000],\n",
            "         [0.0000, 0.0000, 0.0000, 0.0000, 0.0000, 0.0000, 0.0000, 0.0000,\n",
            "          0.0000, 0.0000, 0.0000, 0.0000, 0.0000, 0.0000, 0.0000, 0.0000,\n",
            "          0.0000, 0.0000, 0.0000, 0.0000, 0.0000, 0.0000, 0.0000, 0.0000,\n",
            "          0.0000, 0.0000, 0.0000, 0.0000],\n",
            "         [0.0000, 0.0000, 0.0000, 0.0000, 0.0000, 0.0000, 0.0000, 0.0000,\n",
            "          0.0000, 0.0000, 0.0000, 0.0000, 0.0000, 0.0000, 0.0000, 0.0000,\n",
            "          0.0000, 0.0000, 0.0000, 0.0000, 0.0000, 0.0000, 0.0000, 0.0000,\n",
            "          0.0000, 0.0000, 0.0000, 0.0000]]])\n",
            "tensor(5)\n"
          ],
          "name": "stdout"
        }
      ]
    },
    {
      "cell_type": "code",
      "metadata": {
        "id": "AaO1fxSGFFkN",
        "colab_type": "code",
        "outputId": "b8c6cf47-5bc9-4d88-8c66-e2e20465484f",
        "colab": {
          "base_uri": "https://localhost:8080/",
          "height": 282
        }
      },
      "source": [
        "print(data[0][0].shape)\n",
        "\n",
        "plt.imshow(data[0][0].view(28,28))\n",
        "plt.show()"
      ],
      "execution_count": 0,
      "outputs": [
        {
          "output_type": "stream",
          "text": [
            "torch.Size([1, 28, 28])\n"
          ],
          "name": "stdout"
        },
        {
          "output_type": "display_data",
          "data": {
            "image/png": "[encoded data removed]",
            "text/plain": [
              "<Figure size 432x288 with 1 Axes>"
            ]
          },
          "metadata": {
            "tags": [],
            "needs_background": "light"
          }
        }
      ]
    },
    {
      "cell_type": "code",
      "metadata": {
        "id": "XUj3llzxFliL",
        "colab_type": "code",
        "outputId": "0551482b-da08-46c1-bdc5-52746aa216cf",
        "colab": {
          "base_uri": "https://localhost:8080/",
          "height": 34
        }
      },
      "source": [
        "#Make sure your data is balanced\n",
        "total = 0\n",
        "counter_dict = {0:0, 1:0, 2:0, 3:0, 4:0, 5:0, 6:0, 7:0, 8:0, 9:0}\n",
        "\n",
        "for data in trainset:\n",
        "  Xs, ys = data\n",
        "  for y in ys:\n",
        "    counter_dict[int(y)] += 1\n",
        "    total += 1\n",
        "\n",
        "print(counter_dict)"
      ],
      "execution_count": 0,
      "outputs": [
        {
          "output_type": "stream",
          "text": [
            "{0: 5923, 1: 6742, 2: 5958, 3: 6131, 4: 5842, 5: 5421, 6: 5918, 7: 6265, 8: 5851, 9: 5949}\n"
          ],
          "name": "stdout"
        }
      ]
    },
    {
      "cell_type": "code",
      "metadata": {
        "id": "wlVcZ9IiG4sV",
        "colab_type": "code",
        "outputId": "3f2bbbad-5c0c-471b-f9a6-e100dce92b66",
        "colab": {
          "base_uri": "https://localhost:8080/",
          "height": 187
        }
      },
      "source": [
        "for i in counter_dict:\n",
        "  print(f\"{i}: {counter_dict[i]/total*100}\")"
      ],
      "execution_count": 0,
      "outputs": [
        {
          "output_type": "stream",
          "text": [
            "0: 9.871666666666666\n",
            "1: 11.236666666666666\n",
            "2: 9.93\n",
            "3: 10.218333333333334\n",
            "4: 9.736666666666666\n",
            "5: 9.035\n",
            "6: 9.863333333333333\n",
            "7: 10.441666666666666\n",
            "8: 9.751666666666667\n",
            "9: 9.915000000000001\n"
          ],
          "name": "stdout"
        }
      ]
    },
    {
      "cell_type": "code",
      "metadata": {
        "id": "XeKSpLDQHNcz",
        "colab_type": "code",
        "colab": {}
      },
      "source": [
        "class Net(nn.Module):\n",
        "\n",
        "  def __init__(self):\n",
        "    super().__init__() #Your parent's class initialization method is going to run\n",
        "\n",
        "    #nn.Linear: Fully connected layers\n",
        "    #Our images are 28x28 and we can't pass the image to the layer, instead we pass the flattened image. So, you can think of the pixels like rows and\n",
        "    #when we flatten those there are just many rows of pixels (which is why the input will be a flattened 28x28).\n",
        "    #Our target here is to make a three layers of 64 neurons for our hidden layers, so the output will be 64. Basically, the output can be whatever we want.\n",
        "    self.fc1 = nn.Linear(28*28, 64)\n",
        "    self.fc2 = nn.Linear(64, 64) #This second layer takes in as input 64 because the previous layer's output is 64\n",
        "    self.fc3 = nn.Linear(64, 64)\n",
        "    self.fc4 = nn.Linear(64, 10) #This is our output layer and we want our output to be 10 because we have 10 classes (numbers from 0 to 9)\n",
        "\n",
        "  #The the method below defines how the data will flow through our network\n",
        "  def forward(self, x): \n",
        "    #We are going to run our activation function (relu) literally over the entire layer\n",
        "    #Activation functions are mathematical equations that determine the output of a neural network. The function is attached to each neuron in the network,\n",
        "    #and determines whether it should be activated (\"fired\") or not, based on whether each neuron's input is relevant for the model's prediction.\n",
        "    x = F.relu(self.fc1(x)) \n",
        "    x = F.relu(self.fc2(x))\n",
        "    x = F.relu(self.fc3(x))\n",
        "    #Keep in mind that the activation function runs on the output. We are not actually running anything on the output layer because here our goal is to \n",
        "    #determine the class and in order to do that we're going to do a probability distribution on the output (which is why we are going to use log softmax).\n",
        "    x = F.log_softmax(self.fc4(x), dim=1)\n",
        "\n",
        "    return x"
      ],
      "execution_count": 0,
      "outputs": []
    },
    {
      "cell_type": "code",
      "metadata": {
        "id": "NVxIzjiAKKv7",
        "colab_type": "code",
        "outputId": "d173afd9-69c1-469a-f273-36031c6436cb",
        "colab": {
          "base_uri": "https://localhost:8080/",
          "height": 119
        }
      },
      "source": [
        "net = Net()\n",
        "print(net)"
      ],
      "execution_count": 0,
      "outputs": [
        {
          "output_type": "stream",
          "text": [
            "Net(\n",
            "  (fc1): Linear(in_features=784, out_features=64, bias=True)\n",
            "  (fc2): Linear(in_features=64, out_features=64, bias=True)\n",
            "  (fc3): Linear(in_features=64, out_features=64, bias=True)\n",
            "  (fc4): Linear(in_features=64, out_features=10, bias=True)\n",
            ")\n"
          ],
          "name": "stdout"
        }
      ]
    },
    {
      "cell_type": "code",
      "metadata": {
        "id": "Kar53wQENu3Y",
        "colab_type": "code",
        "outputId": "7c223ff0-3c75-48ff-f57f-8b8afc138ea8",
        "colab": {
          "base_uri": "https://localhost:8080/",
          "height": 1000
        }
      },
      "source": [
        "X = torch.rand((28,28))\n",
        "X = X.view(-1,28*28) #X.view(1,28*28)\n",
        "X"
      ],
      "execution_count": 0,
      "outputs": [
        {
          "output_type": "execute_result",
          "data": {
            "text/plain": [
              "tensor([[2.4014e-01, 3.8980e-01, 7.6535e-01, 8.9395e-01, 7.1044e-01, 5.6709e-01,\n",
              "         7.8077e-01, 2.3660e-01, 5.3044e-01, 7.1059e-01, 2.4782e-01, 6.4117e-01,\n",
              "         9.5768e-01, 7.5698e-01, 1.4305e-01, 3.4686e-02, 8.2092e-01, 5.1924e-01,\n",
              "         9.9876e-01, 2.4888e-01, 5.0057e-01, 2.2124e-01, 1.6937e-01, 2.7568e-01,\n",
              "         1.2490e-01, 1.1157e-03, 9.0571e-01, 2.3275e-01, 7.5882e-01, 4.0628e-01,\n",
              "         2.1127e-01, 6.4473e-01, 2.0017e-02, 1.2818e-01, 4.8984e-01, 7.8681e-01,\n",
              "         4.7771e-01, 8.3585e-01, 8.6664e-01, 9.9834e-01, 6.6482e-01, 4.3012e-01,\n",
              "         9.4670e-02, 7.3326e-01, 9.6806e-01, 6.7991e-01, 1.9850e-01, 2.6014e-01,\n",
              "         9.3694e-01, 8.9259e-01, 2.5634e-01, 6.5660e-01, 8.2413e-01, 4.0320e-01,\n",
              "         4.8985e-01, 7.2855e-01, 1.0828e-01, 8.2649e-01, 1.5629e-01, 1.5879e-02,\n",
              "         4.0589e-01, 7.7031e-01, 4.0232e-01, 6.7716e-01, 1.0352e-01, 7.5841e-01,\n",
              "         5.0430e-01, 6.5432e-01, 5.9099e-01, 5.3668e-01, 3.3041e-01, 7.3373e-02,\n",
              "         2.3221e-02, 8.5248e-01, 4.3725e-01, 6.1212e-01, 9.2056e-01, 7.2190e-01,\n",
              "         1.0280e-01, 4.9420e-01, 5.8773e-01, 7.8814e-01, 6.2151e-01, 1.2929e-02,\n",
              "         3.2648e-01, 9.1528e-01, 2.8071e-01, 8.2042e-02, 3.3554e-01, 5.8444e-01,\n",
              "         3.9558e-01, 7.8386e-02, 9.6607e-01, 8.6762e-01, 4.6684e-01, 2.6085e-01,\n",
              "         9.0397e-01, 2.9969e-01, 9.7039e-01, 5.2997e-01, 7.5176e-01, 6.8698e-01,\n",
              "         1.1689e-01, 6.9219e-01, 7.8206e-02, 2.4711e-01, 6.0114e-01, 1.9196e-01,\n",
              "         7.2832e-01, 9.6411e-01, 6.4208e-01, 8.3088e-01, 8.7736e-01, 5.1380e-01,\n",
              "         8.9096e-01, 1.7452e-01, 1.5417e-01, 1.3688e-01, 4.8205e-01, 5.5948e-01,\n",
              "         8.0228e-01, 1.1576e-01, 5.4700e-01, 2.0475e-01, 3.9069e-01, 1.2025e-01,\n",
              "         8.3977e-01, 2.2332e-01, 4.9211e-01, 3.8289e-01, 9.8935e-01, 1.0748e-01,\n",
              "         7.7828e-01, 3.6168e-01, 3.0120e-01, 5.8386e-01, 3.0728e-01, 2.3396e-01,\n",
              "         8.6651e-01, 4.0535e-02, 5.7049e-01, 5.9295e-02, 1.1657e-01, 9.4795e-01,\n",
              "         5.7820e-02, 3.8072e-01, 3.2111e-01, 6.9440e-01, 9.5606e-01, 1.4468e-01,\n",
              "         8.0461e-01, 8.8484e-01, 5.3643e-01, 1.8954e-01, 2.9433e-01, 8.0669e-01,\n",
              "         4.9630e-01, 3.4697e-01, 1.9724e-01, 4.4697e-01, 5.5744e-01, 7.3455e-01,\n",
              "         1.5662e-01, 6.5700e-02, 4.2373e-02, 1.0753e-01, 2.6933e-01, 7.7393e-01,\n",
              "         9.5470e-01, 9.2667e-01, 7.4483e-01, 7.9400e-02, 4.1141e-01, 8.4812e-01,\n",
              "         5.8287e-01, 4.4361e-02, 5.1155e-01, 1.4556e-01, 7.3188e-01, 9.3386e-01,\n",
              "         9.9325e-01, 8.6516e-02, 4.4509e-01, 4.8878e-01, 5.6850e-01, 1.6596e-01,\n",
              "         7.9664e-01, 7.8467e-01, 5.3204e-01, 7.9279e-01, 3.3998e-01, 9.0350e-01,\n",
              "         4.2047e-01, 3.0563e-01, 2.4304e-01, 4.6848e-01, 3.5398e-01, 9.6989e-01,\n",
              "         8.5853e-02, 5.1195e-01, 6.2813e-01, 4.2640e-01, 6.3066e-02, 6.6780e-01,\n",
              "         2.2485e-01, 3.6516e-01, 4.7591e-01, 8.5517e-01, 5.5180e-01, 4.8547e-01,\n",
              "         9.0918e-01, 8.9744e-01, 9.8549e-01, 1.2336e-01, 4.6749e-01, 4.7186e-01,\n",
              "         2.5850e-01, 6.7413e-01, 1.3918e-03, 2.1532e-01, 6.5149e-01, 6.7801e-01,\n",
              "         8.9079e-01, 5.6736e-01, 9.1673e-01, 9.8332e-01, 4.8253e-01, 4.9055e-01,\n",
              "         7.8558e-02, 1.7370e-01, 2.6086e-01, 1.6606e-01, 6.2255e-03, 4.4287e-01,\n",
              "         9.5120e-01, 7.7345e-01, 2.4406e-01, 5.5681e-01, 5.6272e-01, 4.6241e-01,\n",
              "         2.9903e-01, 8.0741e-01, 6.4316e-01, 7.7045e-01, 3.7245e-01, 1.8119e-01,\n",
              "         1.5194e-01, 8.8778e-01, 3.5420e-02, 2.1206e-01, 9.3784e-01, 4.6774e-01,\n",
              "         2.4144e-01, 9.1232e-01, 3.6848e-01, 1.5691e-01, 2.6033e-01, 1.4479e-01,\n",
              "         2.2850e-01, 4.5074e-01, 9.2493e-01, 5.0814e-01, 3.5542e-01, 2.8543e-01,\n",
              "         6.2815e-01, 6.0959e-01, 4.6789e-01, 3.3448e-01, 3.5236e-01, 7.4062e-01,\n",
              "         3.0268e-01, 9.4164e-01, 8.3739e-01, 1.8123e-01, 2.8348e-01, 1.2572e-01,\n",
              "         8.7099e-01, 2.7718e-01, 6.4685e-01, 6.8718e-02, 9.5197e-01, 7.1079e-01,\n",
              "         7.5920e-01, 4.4174e-01, 6.7852e-01, 6.1778e-01, 3.1788e-01, 6.6917e-01,\n",
              "         4.9116e-01, 4.9688e-01, 2.7259e-01, 7.6676e-01, 6.7143e-02, 6.6528e-01,\n",
              "         4.6266e-01, 3.2841e-01, 6.2398e-01, 2.1616e-01, 9.4945e-01, 4.9073e-01,\n",
              "         1.2120e-01, 6.8598e-02, 7.3708e-01, 7.8558e-02, 2.0291e-01, 1.1426e-01,\n",
              "         6.1459e-01, 7.5365e-01, 3.9150e-01, 9.5648e-01, 5.8193e-01, 4.9944e-01,\n",
              "         9.5122e-01, 1.0343e-01, 8.7024e-01, 2.9032e-01, 6.0870e-01, 9.1065e-01,\n",
              "         6.8408e-02, 7.4464e-01, 4.9374e-01, 3.0102e-01, 6.6755e-01, 5.8023e-01,\n",
              "         4.3337e-01, 6.3373e-01, 8.5433e-01, 3.2747e-01, 7.5765e-01, 4.9012e-01,\n",
              "         8.6343e-01, 1.6682e-01, 2.1321e-01, 4.3809e-01, 5.9541e-01, 4.3717e-01,\n",
              "         6.2130e-01, 9.4108e-02, 3.4032e-01, 1.3339e-01, 7.0924e-01, 4.9749e-01,\n",
              "         1.2497e-01, 8.7958e-01, 7.4487e-01, 8.0570e-01, 9.9303e-01, 3.0579e-01,\n",
              "         5.0462e-01, 6.6288e-01, 6.3951e-02, 6.2917e-02, 7.6044e-01, 5.0499e-01,\n",
              "         5.3227e-01, 6.3151e-01, 6.4356e-01, 2.3857e-01, 7.3870e-01, 6.5938e-01,\n",
              "         3.8144e-01, 1.4735e-01, 6.2783e-01, 1.9055e-01, 4.0750e-02, 9.3254e-01,\n",
              "         6.5059e-01, 4.6413e-01, 7.7078e-01, 6.5585e-01, 9.9967e-01, 2.3384e-01,\n",
              "         7.2048e-01, 6.3434e-01, 2.8801e-01, 5.9045e-01, 1.8150e-01, 6.2386e-02,\n",
              "         4.1954e-01, 8.9842e-01, 6.4011e-01, 6.0434e-02, 5.9968e-01, 4.5149e-02,\n",
              "         5.5363e-01, 6.8836e-01, 9.9631e-02, 5.3802e-01, 7.4857e-01, 4.5770e-01,\n",
              "         7.6936e-01, 2.1704e-01, 4.2140e-01, 8.8638e-01, 3.4228e-01, 9.4186e-01,\n",
              "         7.8906e-01, 4.4564e-01, 5.8388e-01, 1.5685e-01, 7.2636e-01, 6.5305e-01,\n",
              "         7.6112e-01, 3.1197e-01, 6.2118e-01, 1.8391e-01, 8.9124e-01, 9.7276e-02,\n",
              "         1.0688e-01, 7.2663e-01, 2.9909e-01, 7.9326e-01, 2.5117e-01, 4.0937e-02,\n",
              "         4.5497e-01, 9.7020e-01, 4.9628e-02, 1.3853e-01, 1.3496e-01, 9.8807e-01,\n",
              "         9.3424e-02, 9.2044e-01, 7.2881e-01, 9.9789e-01, 9.1484e-01, 9.6869e-01,\n",
              "         3.3181e-01, 4.6095e-01, 6.9184e-02, 9.5240e-01, 8.8430e-01, 5.5981e-01,\n",
              "         2.6155e-01, 6.3503e-03, 8.4286e-01, 2.8485e-01, 6.2392e-01, 5.5599e-01,\n",
              "         6.6885e-01, 4.6283e-01, 4.3055e-01, 9.8628e-01, 1.6952e-01, 9.4215e-01,\n",
              "         1.2261e-01, 4.7710e-01, 8.8738e-02, 3.8226e-01, 2.7456e-01, 7.3096e-01,\n",
              "         8.1010e-01, 2.7011e-01, 4.6983e-01, 7.7040e-01, 7.5825e-01, 6.5667e-01,\n",
              "         9.8418e-01, 8.6756e-03, 9.3041e-01, 6.2897e-01, 6.7341e-01, 2.7308e-01,\n",
              "         4.3563e-01, 3.1477e-01, 3.7048e-01, 5.5316e-01, 7.5774e-03, 6.3884e-01,\n",
              "         7.5838e-01, 2.3836e-01, 6.9439e-01, 6.3505e-01, 7.9736e-02, 4.9420e-01,\n",
              "         8.3337e-01, 1.1420e-01, 5.9260e-01, 6.5527e-01, 3.0747e-01, 3.2714e-01,\n",
              "         8.9077e-01, 4.5206e-01, 7.2413e-01, 9.3283e-01, 1.6135e-01, 9.5985e-01,\n",
              "         4.1859e-01, 8.4333e-01, 2.2088e-01, 2.2083e-01, 2.3895e-02, 3.4125e-02,\n",
              "         7.7925e-01, 2.3036e-01, 5.7905e-02, 5.2745e-01, 5.3573e-01, 5.7565e-01,\n",
              "         5.9411e-01, 9.0761e-01, 2.3060e-01, 9.6300e-02, 8.1357e-01, 7.2506e-01,\n",
              "         9.5840e-01, 9.4161e-02, 2.1737e-01, 8.6583e-01, 2.1712e-02, 5.4451e-01,\n",
              "         8.3101e-01, 6.6927e-01, 2.6950e-01, 5.1904e-01, 3.9162e-02, 7.1381e-01,\n",
              "         3.1079e-01, 6.4026e-01, 5.5275e-01, 5.7563e-01, 5.6224e-01, 1.0399e-02,\n",
              "         8.6700e-01, 2.0642e-01, 3.7092e-01, 5.4200e-01, 8.9543e-01, 1.4587e-01,\n",
              "         4.5644e-01, 2.4522e-01, 2.3339e-01, 2.8464e-01, 2.4067e-01, 5.8784e-02,\n",
              "         3.5122e-01, 4.0635e-01, 9.6423e-01, 8.2719e-01, 1.8555e-01, 5.5081e-01,\n",
              "         5.6512e-01, 8.8954e-01, 3.3962e-01, 1.7177e-01, 6.2267e-01, 6.7525e-01,\n",
              "         8.5687e-01, 2.3631e-01, 2.5563e-01, 5.9086e-01, 9.4818e-01, 4.9151e-01,\n",
              "         1.0899e-01, 8.0704e-01, 2.6680e-01, 9.3431e-01, 5.7295e-01, 7.4633e-01,\n",
              "         9.8082e-01, 7.3803e-01, 6.9535e-01, 1.0557e-01, 5.8905e-01, 6.8520e-02,\n",
              "         9.8557e-01, 3.5749e-01, 7.1343e-01, 9.6254e-02, 3.1757e-01, 4.6034e-01,\n",
              "         4.9079e-01, 8.9266e-01, 8.6261e-01, 4.1253e-01, 2.3950e-01, 4.0788e-01,\n",
              "         7.8024e-01, 4.4976e-01, 5.8622e-01, 2.0243e-01, 7.0958e-01, 7.5078e-02,\n",
              "         8.7426e-02, 1.8696e-01, 7.9619e-01, 7.0750e-01, 1.9807e-01, 1.8059e-01,\n",
              "         7.9689e-01, 1.3549e-01, 1.4312e-01, 8.1101e-01, 9.8054e-01, 6.4042e-01,\n",
              "         3.9247e-01, 2.4880e-01, 8.5429e-01, 9.8604e-01, 3.2325e-01, 5.1162e-01,\n",
              "         7.5290e-01, 2.7173e-01, 9.1229e-01, 9.6616e-01, 9.5819e-01, 7.2728e-01,\n",
              "         6.4883e-02, 9.5971e-01, 8.5413e-01, 3.5558e-01, 7.1205e-01, 7.1901e-04,\n",
              "         8.0118e-01, 2.7079e-01, 7.4276e-01, 6.9078e-01, 4.0459e-01, 3.6663e-01,\n",
              "         6.4333e-01, 9.2974e-01, 3.0177e-01, 2.2355e-01, 5.6100e-01, 1.4438e-01,\n",
              "         3.6282e-02, 4.8008e-02, 4.4646e-01, 1.1209e-01, 7.0997e-01, 8.9589e-01,\n",
              "         5.8455e-01, 7.3328e-01, 8.4882e-01, 1.1532e-01, 6.7030e-01, 5.4204e-01,\n",
              "         3.1412e-01, 7.8948e-01, 2.6530e-01, 1.6355e-01, 1.8146e-01, 9.3400e-01,\n",
              "         1.9645e-01, 6.3687e-01, 6.2512e-01, 9.6879e-01, 2.4342e-01, 6.5747e-01,\n",
              "         6.9223e-01, 9.2691e-01, 8.8513e-01, 2.5781e-01, 1.2800e-01, 3.7229e-01,\n",
              "         2.8795e-01, 4.2584e-02, 9.8382e-01, 9.2229e-01, 1.3497e-03, 9.8911e-01,\n",
              "         3.3930e-01, 6.2331e-01, 3.9389e-01, 8.0519e-02, 4.4712e-01, 1.0402e-01,\n",
              "         8.5731e-01, 4.6023e-01, 6.6959e-01, 3.7733e-01, 1.6636e-01, 9.3868e-01,\n",
              "         9.0238e-01, 3.9317e-01, 2.0914e-01, 4.8576e-01, 5.4752e-01, 4.0110e-01,\n",
              "         3.4903e-02, 3.9249e-01, 8.9558e-01, 5.6935e-02, 6.7861e-01, 9.4080e-01,\n",
              "         3.8977e-01, 7.3391e-01, 3.3023e-01, 8.5673e-02, 7.8630e-01, 2.3377e-01,\n",
              "         6.8056e-01, 1.5673e-01, 9.0389e-01, 9.0308e-01, 8.3281e-01, 7.8628e-01,\n",
              "         4.2721e-01, 1.9822e-01, 9.7430e-01, 8.1998e-01, 1.3484e-02, 7.6119e-01,\n",
              "         6.1550e-01, 7.3260e-01, 7.3037e-01, 2.4176e-01, 1.4978e-01, 4.1113e-01,\n",
              "         5.3695e-01, 5.7988e-01, 9.1139e-01, 2.9534e-01, 6.1161e-01, 6.1379e-02,\n",
              "         6.4255e-01, 8.6927e-01, 9.9675e-01, 4.6969e-01, 9.4002e-02, 4.9726e-01,\n",
              "         7.7517e-02, 9.2110e-02, 5.8871e-01, 8.8629e-01, 7.2610e-01, 2.1229e-01,\n",
              "         3.5070e-01, 8.9274e-01, 4.6508e-01, 6.8836e-01, 1.5048e-01, 2.8317e-02,\n",
              "         3.3882e-01, 8.2059e-01, 2.2186e-01, 7.7357e-01, 6.2620e-01, 7.8874e-01,\n",
              "         2.6317e-01, 2.0869e-01, 2.5902e-01, 3.2675e-01, 2.6352e-01, 5.2438e-02,\n",
              "         4.2257e-01, 8.5259e-01, 7.5771e-01, 9.6830e-01, 2.4101e-01, 5.8981e-01,\n",
              "         4.1845e-02, 2.7122e-01, 8.7236e-01, 7.8860e-01, 5.3830e-01, 1.9807e-01,\n",
              "         8.8790e-01, 3.3679e-01, 3.2087e-02, 4.2380e-01, 1.3531e-01, 9.4384e-01,\n",
              "         5.8661e-02, 1.7533e-01, 7.5232e-01, 3.0962e-01, 4.8808e-01, 3.3200e-01,\n",
              "         9.0277e-02, 6.0247e-01, 7.3519e-01, 8.0714e-01, 5.6665e-02, 6.1210e-01,\n",
              "         2.1908e-01, 6.0630e-01, 6.3271e-02, 2.5423e-01, 5.1556e-01, 6.9325e-01,\n",
              "         7.3114e-01, 6.6193e-01, 7.4315e-01, 8.4158e-02]])"
            ]
          },
          "metadata": {
            "tags": []
          },
          "execution_count": 31
        }
      ]
    },
    {
      "cell_type": "code",
      "metadata": {
        "id": "6DpHOiO8N2LJ",
        "colab_type": "code",
        "outputId": "1c40d1d9-4ea8-4137-e985-48f2fc7d7a00",
        "colab": {
          "base_uri": "https://localhost:8080/",
          "height": 51
        }
      },
      "source": [
        "output = net(X)\n",
        "output"
      ],
      "execution_count": 0,
      "outputs": [
        {
          "output_type": "execute_result",
          "data": {
            "text/plain": [
              "tensor([[-2.4805, -2.3253, -2.2589, -2.1722, -2.3129, -2.3700, -2.2817, -2.3009,\n",
              "         -2.2072, -2.3496]], grad_fn=<LogSoftmaxBackward>)"
            ]
          },
          "metadata": {
            "tags": []
          },
          "execution_count": 32
        }
      ]
    },
    {
      "cell_type": "code",
      "metadata": {
        "id": "wB0QZMrqZn4x",
        "colab_type": "code",
        "outputId": "1fb0a1c2-7a9f-4697-b81f-747382888433",
        "colab": {
          "base_uri": "https://localhost:8080/",
          "height": 68
        }
      },
      "source": [
        "#The learning rate dictates the size of the step that the optimizer will take to get to the minimum\n",
        "optimizer = optim.Adam(net.parameters(), lr=0.001)\n",
        "\n",
        "#Iterate over data \n",
        "epochs = 3\n",
        "for epoch in range(epochs): \n",
        "  for data in trainset: #data is a batch of feature sets and labels\n",
        "    X, y = data #X: batch of features; y: batch of targets\n",
        "    net.zero_grad() #Sets gradients to zero before calculating the loss\n",
        "    output = net(X.view(-1, 28*28))\n",
        "    loss = F.nll_loss(output, y)\n",
        "    loss.backward() #backpropagation\n",
        "    optimizer.step() #This is going to adjust the weights for us\n",
        "  print(loss) "
      ],
      "execution_count": 0,
      "outputs": [
        {
          "output_type": "stream",
          "text": [
            "tensor(9.9277e-05, grad_fn=<NllLossBackward>)\n",
            "tensor(0.0005, grad_fn=<NllLossBackward>)\n",
            "tensor(0.0035, grad_fn=<NllLossBackward>)\n"
          ],
          "name": "stdout"
        }
      ]
    },
    {
      "cell_type": "code",
      "metadata": {
        "id": "qFf60qw8gUCD",
        "colab_type": "code",
        "outputId": "ad01c2e2-e184-47f1-a333-781b11431634",
        "colab": {
          "base_uri": "https://localhost:8080/",
          "height": 34
        }
      },
      "source": [
        "correct = 0\n",
        "total = 0\n",
        "\n",
        "#When we're trying to validate our data we don't want our gradients to be calculated (this is testing data, we just want to see how right or wrong the model is)\n",
        "with torch.no_grad():\n",
        "    for data in testset:\n",
        "      X, y = data\n",
        "      output = net(X.view(-1, 28*28))\n",
        "      for index, i in enumerate(output):\n",
        "        if torch.argmax(i) == y[index]:\n",
        "          correct += 1\n",
        "        total += 1\n",
        "\n",
        "print(\"Accuracy: \", round(correct/total, 3))"
      ],
      "execution_count": 0,
      "outputs": [
        {
          "output_type": "stream",
          "text": [
            "Accuracy:  0.974\n"
          ],
          "name": "stdout"
        }
      ]
    },
    {
      "cell_type": "code",
      "metadata": {
        "id": "iUi-xP-uiCLc",
        "colab_type": "code",
        "outputId": "2b9690e5-1077-4582-acef-bb0066c26af0",
        "colab": {
          "base_uri": "https://localhost:8080/",
          "height": 265
        }
      },
      "source": [
        "plt.imshow(X[0].view(28,28))\n",
        "plt.show()"
      ],
      "execution_count": 0,
      "outputs": [
        {
          "output_type": "display_data",
          "data": {
            "image/png": "[encoded data removed]",
            "text/plain": [
              "<Figure size 432x288 with 1 Axes>"
            ]
          },
          "metadata": {
            "tags": [],
            "needs_background": "light"
          }
        }
      ]
    },
    {
      "cell_type": "code",
      "metadata": {
        "id": "ysKJxhQejdyw",
        "colab_type": "code",
        "outputId": "0d109dc3-36f6-4383-b179-7e1ced1b9b89",
        "colab": {
          "base_uri": "https://localhost:8080/",
          "height": 34
        }
      },
      "source": [
        "print(torch.argmax(net(X[0].view(-1, 28*28))[0]))"
      ],
      "execution_count": 0,
      "outputs": [
        {
          "output_type": "stream",
          "text": [
            "tensor(1, grad_fn=<NotImplemented>)\n"
          ],
          "name": "stdout"
        }
      ]
    }
  ]
}